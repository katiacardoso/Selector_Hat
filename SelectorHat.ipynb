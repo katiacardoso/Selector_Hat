{
  "nbformat": 4,
  "nbformat_minor": 0,
  "metadata": {
    "colab": {
      "provenance": [],
      "authorship_tag": "ABX9TyOqmemTLOEfhVo3bKFeqEDO",
      "include_colab_link": true
    },
    "kernelspec": {
      "name": "python3",
      "display_name": "Python 3"
    },
    "language_info": {
      "name": "python"
    }
  },
  "cells": [
    {
      "cell_type": "markdown",
      "metadata": {
        "id": "view-in-github",
        "colab_type": "text"
      },
      "source": [
        "<a href=\"https://colab.research.google.com/github/katiacardoso/Selector_Hat/blob/main/SelectorHat.ipynb\" target=\"_parent\"><img src=\"https://colab.research.google.com/assets/colab-badge.svg\" alt=\"Open In Colab\"/></a>"
      ]
    },
    {
      "cell_type": "markdown",
      "source": [
        "Importação dos dados"
      ],
      "metadata": {
        "id": "M7tw6IgG0QG0"
      }
    },
    {
      "cell_type": "code",
      "execution_count": 102,
      "metadata": {
        "id": "5O0oEs-LFFRZ"
      },
      "outputs": [],
      "source": [
        "import pandas as pd\n",
        "import requests\n",
        "from io import StringIO\n",
        "from sklearn.model_selection import train_test_split\n",
        "from sklearn.feature_extraction.text import CountVectorizer\n",
        "from sklearn.naive_bayes import MultinomialNB\n",
        "from sklearn.metrics import classification_report\n",
        "from scipy.sparse import hstack\n",
        "\n",
        "\n",
        "#importação dos dados\n",
        "url = 'https://raw.githubusercontent.com/katiacardoso/Selector_Hat/main/dataset.csv'\n",
        "\n",
        "# Baixar o conteúdo do arquivo usando requests\n",
        "response = requests.get(url)\n",
        "\n",
        "# Verificar se a requisição foi bem-sucedida\n",
        "if response.status_code == 200:\n",
        "    # Criar um objeto pandas DataFrame a partir do conteúdo baixado\n",
        "    data = pd.read_csv(StringIO(response.text), usecols=['Name', 'House'], delimiter=';')\n",
        "    # Agora você pode usar o DataFrame 'data' normalmente\n",
        "else:\n",
        "    print(\"Falha ao baixar o arquivo. Código de status:\", response.status_code)"
      ]
    },
    {
      "cell_type": "markdown",
      "source": [
        "Enriquecendo a base com caracteristicas das casas"
      ],
      "metadata": {
        "id": "tZwz_95s0TwW"
      }
    },
    {
      "cell_type": "code",
      "source": [
        "'''# Dicionários com características das casas\n",
        "caracteristicas_grifinoria = {'coragem': 'alta', 'astucia': 'baixa', 'inteligencia': 'média', 'lealdade': 'alta'}\n",
        "caracteristicas_sonserina = {'coragem': 'baixa', 'astucia': 'alta', 'inteligencia': 'alta', 'lealdade': 'baixa'}\n",
        "caracteristicas_corvinal = {'coragem': 'média', 'astucia': 'média', 'inteligencia': 'alta', 'lealdade': 'alta'}\n",
        "caracteristicas_lufalufa = {'coragem': 'baixa', 'astucia': 'baixa', 'inteligencia': 'média', 'lealdade': 'alta'}\n",
        "\n",
        "# Adicione colunas para as características das casas e inicialize com valores vazios\n",
        "for caracteristica in ['coragem', 'astucia', 'inteligencia', 'lealdade']:\n",
        "    data[caracteristica] = ''\n",
        "\n",
        "# Preencha as características das casas no DataFrame\n",
        "for index, row in data.iterrows():\n",
        "    casa = row['House']  # Supondo que o nome da coluna da casa seja 'Casa'\n",
        "    if casa == 'Gryffindor':\n",
        "        data.at[index, 'coragem'] = caracteristicas_grifinoria['coragem']\n",
        "        data.at[index, 'astucia'] = caracteristicas_grifinoria['astucia']\n",
        "        data.at[index, 'inteligencia'] = caracteristicas_grifinoria['inteligencia']\n",
        "        data.at[index, 'lealdade'] = caracteristicas_grifinoria['lealdade']\n",
        "    elif casa == 'Slytherin':\n",
        "        data.at[index, 'coragem'] = caracteristicas_sonserina['coragem']\n",
        "        data.at[index, 'astucia'] = caracteristicas_sonserina['astucia']\n",
        "        data.at[index, 'inteligencia'] = caracteristicas_sonserina['inteligencia']\n",
        "        data.at[index, 'lealdade'] = caracteristicas_sonserina['lealdade']\n",
        "    elif casa == 'Ravenclaw':\n",
        "        data.at[index, 'coragem'] = caracteristicas_corvinal['coragem']\n",
        "        data.at[index, 'astucia'] = caracteristicas_corvinal['astucia']\n",
        "        data.at[index, 'inteligencia'] = caracteristicas_corvinal['inteligencia']\n",
        "        data.at[index, 'lealdade'] = caracteristicas_corvinal['lealdade']\n",
        "    elif casa == 'Hufflepuff':\n",
        "        data.at[index, 'coragem'] = caracteristicas_lufalufa['coragem']\n",
        "        data.at[index, 'astucia'] = caracteristicas_lufalufa['astucia']\n",
        "        data.at[index, 'inteligencia'] = caracteristicas_lufalufa['inteligencia']\n",
        "        data.at[index, 'lealdade'] = caracteristicas_lufalufa['lealdade']\n",
        "\n",
        "# Salve o DataFrame atualizado no mesmo arquivo CSV\n",
        "data.to_csv('dataset_enriquecido.csv', index=False)'''"
      ],
      "metadata": {
        "colab": {
          "base_uri": "https://localhost:8080/",
          "height": 175
        },
        "id": "ThDZN4Po0Xea",
        "outputId": "8e20c11c-9cb8-44c2-a5ec-ad31c38bf3f2"
      },
      "execution_count": 103,
      "outputs": [
        {
          "output_type": "execute_result",
          "data": {
            "text/plain": [
              "\"# Dicionários com características das casas\\ncaracteristicas_grifinoria = {'coragem': 'alta', 'astucia': 'baixa', 'inteligencia': 'média', 'lealdade': 'alta'}\\ncaracteristicas_sonserina = {'coragem': 'baixa', 'astucia': 'alta', 'inteligencia': 'alta', 'lealdade': 'baixa'}\\ncaracteristicas_corvinal = {'coragem': 'média', 'astucia': 'média', 'inteligencia': 'alta', 'lealdade': 'alta'}\\ncaracteristicas_lufalufa = {'coragem': 'baixa', 'astucia': 'baixa', 'inteligencia': 'média', 'lealdade': 'alta'}\\n\\n# Adicione colunas para as características das casas e inicialize com valores vazios\\nfor caracteristica in ['coragem', 'astucia', 'inteligencia', 'lealdade']:\\n    data[caracteristica] = ''\\n\\n# Preencha as características das casas no DataFrame\\nfor index, row in data.iterrows():\\n    casa = row['House']  # Supondo que o nome da coluna da casa seja 'Casa'\\n    if casa == 'Gryffindor':\\n        data.at[index, 'coragem'] = caracteristicas_grifinoria['coragem']\\n        data.at[index, 'astucia'] = caracteristicas_grifinoria['astucia']\\n        data.at[index, 'inteligencia'] = caracteristicas_grifinoria['inteligencia']\\n        data.at[index, 'lealdade'] = caracteristicas_grifinoria['lealdade']\\n    elif casa == 'Slytherin':\\n        data.at[index, 'coragem'] = caracteristicas_sonserina['coragem']\\n        data.at[index, 'astucia'] = caracteristicas_sonserina['astucia']\\n        data.at[index, 'inteligencia'] = caracteristicas_sonserina['inteligencia']\\n        data.at[index, 'lealdade'] = caracteristicas_sonserina['lealdade']\\n    elif casa == 'Ravenclaw':\\n        data.at[index, 'coragem'] = caracteristicas_corvinal['coragem']\\n        data.at[index, 'astucia'] = caracteristicas_corvinal['astucia']\\n        data.at[index, 'inteligencia'] = caracteristicas_corvinal['inteligencia']\\n        data.at[index, 'lealdade'] = caracteristicas_corvinal['lealdade']\\n    elif casa == 'Hufflepuff':\\n        data.at[index, 'coragem'] = caracteristicas_lufalufa['coragem']\\n        data.at[index, 'astucia'] = caracteristicas_lufalufa['astucia']\\n        data.at[index, 'inteligencia'] = caracteristicas_lufalufa['inteligencia']\\n        data.at[index, 'lealdade'] = caracteristicas_lufalufa['lealdade']\\n\\n# Salve o DataFrame atualizado no mesmo arquivo CSV\\ndata.to_csv('dataset_enriquecido.csv', index=False)\""
            ],
            "application/vnd.google.colaboratory.intrinsic+json": {
              "type": "string"
            }
          },
          "metadata": {},
          "execution_count": 103
        }
      ]
    },
    {
      "cell_type": "code",
      "source": [
        "# Adicione colunas para as características das casas e inicialize com valores vazios\n",
        "data['Attributes'] = ''\n",
        "\n",
        "# Preencha as características das casas no DataFrame\n",
        "for index, row in data.iterrows():\n",
        "    casa = row['House']  # Supondo que o nome da coluna da casa seja 'Casa'\n",
        "    if casa == 'Gryffindor':\n",
        "        data.at[index, 'Attributes'] = 'Coragem, Bravura, Determinação'\n",
        "    elif casa == 'Slytherin':\n",
        "        data.at[index, 'Attributes'] = 'Astúcia, Ambição, Determinação'\n",
        "    elif casa == 'Ravenclaw':\n",
        "        data.at[index, 'Attributes'] = 'Inteligência, Criatividade, Sabedoria'\n",
        "    elif casa == 'Hufflepuff':\n",
        "        data.at[index, 'Attributes'] = 'Lealdade, Paciência, Gentileza'\n",
        "'''# Converta os valores da coluna 'Attributes' para string\n",
        "data['Attributes'] = data['Attributes'].astype(str)'''\n",
        "\n",
        "#Salve o DataFrame atualizado no mesmo arquivo CSV\n",
        "data.to_csv('dataset_enriquecido.csv', index=False)"
      ],
      "metadata": {
        "id": "PHwJEOsB2h5L"
      },
      "execution_count": 104,
      "outputs": []
    },
    {
      "cell_type": "code",
      "source": [
        "# Contar o número de amostras em cada classe\n",
        "contagem_classes = data['House'].value_counts()\n",
        "\n",
        "# Exibir a contagem de amostras em cada classe\n",
        "print(\"Contagem de Amostras por Classe:\")\n",
        "print(contagem_classes)\n"
      ],
      "metadata": {
        "colab": {
          "base_uri": "https://localhost:8080/"
        },
        "id": "kg09XKPDQsg6",
        "outputId": "c2bae0a5-b0fe-4ef4-d764-1cbe944ef61b"
      },
      "execution_count": 108,
      "outputs": [
        {
          "output_type": "stream",
          "name": "stdout",
          "text": [
            "Contagem de Amostras por Classe:\n",
            "Gryffindor    38\n",
            "Slytherin     28\n",
            "Ravenclaw     18\n",
            "Hufflepuff    13\n",
            "Name: House, dtype: int64\n"
          ]
        }
      ]
    },
    {
      "cell_type": "code",
      "source": [
        "'''\n",
        "# Obtém os nomes dos personagens, as casas correspondentes e os atributos de cada casa\n",
        "X = data['Name']\n",
        "y = data['House']\n",
        "a = data['Attributes']\n",
        "\n",
        "\n",
        "# Divisão dos dados em conjuntos de treino e teste (80% para treino, 20% para teste)\n",
        "X_treino, X_teste, y_treino, y_teste, a_treino, a_teste = train_test_split(X, y, a, test_size=0.2, random_state=42)\n",
        "\n",
        "# Vetorização dos dados de texto e dos atributos\n",
        "vectorizer = CountVectorizer()\n",
        "X_treino_vetorizado = vectorizer.fit_transform(X_treino)\n",
        "X_teste_vetorizado = vectorizer.transform(X_teste)\n",
        "\n",
        "# Vetorização dos atributos das casas\n",
        "atributos_vectorizer = CountVectorizer()\n",
        "a_treino_vetorizado = atributos_vectorizer.fit_transform(a_treino)\n",
        "a_teste_vetorizado = atributos_vectorizer.transform(a_teste)\n",
        "\n",
        "# Concatenando os vetores de atributos com os vetores de nomes dos personagens\n",
        "X_treino_vetorizado = hstack([X_treino_vetorizado, a_treino_vetorizado])\n",
        "X_teste_vetorizado = hstack([X_teste_vetorizado, a_teste_vetorizado])\n",
        "\n",
        "# Inicialização e treinamento do modelo Naive Bayes\n",
        "modelo_naive_bayes = MultinomialNB()\n",
        "modelo_naive_bayes.fit(X_treino_vetorizado, y_treino)\n",
        "\n",
        "# Faz a previsão da casa para os dados de teste\n",
        "previsoes = modelo_naive_bayes.predict(X_teste_vetorizado)\n",
        "\n",
        "# Gera o relatório de classificação para análise de erros\n",
        "relatorio_classificacao = classification_report(y_teste, previsoes)\n",
        "\n",
        "# Exibe o relatório de classificação no terminal\n",
        "print(\"Relatório de Classificação:\")\n",
        "print(relatorio_classificacao)\n",
        "\n",
        "# Analisa os casos em que o modelo falhou (por exemplo, quando a previsão foi 'Grifinória' mas a casa real era 'Lufa-Lufa')\n",
        "indices_erros = [i for i, (real, previsto) in enumerate(zip(y_teste, previsoes)) if real != previsto]\n",
        "\n",
        "print(\"\\nExemplos de Erros:\")\n",
        "for indice in indices_erros[:min(15, len(indices_erros))]:  # Exibe no máximo 5 exemplos de erros\n",
        "    print(f\"Nome: {X_teste.iloc[indice]}, Real: {y_teste.iloc[indice]}, Previsto: {previsoes[indice]}, Atributos: {a_teste.iloc[indice]}\")'''"
      ],
      "metadata": {
        "colab": {
          "base_uri": "https://localhost:8080/"
        },
        "id": "zPItFndh0caX",
        "outputId": "60d54c66-b726-44b7-d58e-6632569aca20"
      },
      "execution_count": 105,
      "outputs": [
        {
          "output_type": "stream",
          "name": "stdout",
          "text": [
            "Relatório de Classificação:\n",
            "              precision    recall  f1-score   support\n",
            "\n",
            "  Gryffindor       1.00      1.00      1.00         9\n",
            "  Hufflepuff       1.00      1.00      1.00         3\n",
            "   Ravenclaw       1.00      1.00      1.00         5\n",
            "   Slytherin       1.00      1.00      1.00         3\n",
            "\n",
            "    accuracy                           1.00        20\n",
            "   macro avg       1.00      1.00      1.00        20\n",
            "weighted avg       1.00      1.00      1.00        20\n",
            "\n",
            "\n",
            "Exemplos de Erros:\n"
          ]
        }
      ]
    },
    {
      "cell_type": "code",
      "source": [
        "#pip install -U imbalanced-learn"
      ],
      "metadata": {
        "colab": {
          "base_uri": "https://localhost:8080/",
          "height": 393
        },
        "id": "_UQk_LbgT4GB",
        "outputId": "157c0c45-7ea3-4439-acd9-67d283a9e841"
      },
      "execution_count": 112,
      "outputs": [
        {
          "output_type": "stream",
          "name": "stdout",
          "text": [
            "Requirement already satisfied: imbalanced-learn in /usr/local/lib/python3.10/dist-packages (0.10.1)\n",
            "Collecting imbalanced-learn\n",
            "  Downloading imbalanced_learn-0.11.0-py3-none-any.whl (235 kB)\n",
            "\u001b[2K     \u001b[90m━━━━━━━━━━━━━━━━━━━━━━━━━━━━━━━━━━━━━━━━\u001b[0m \u001b[32m235.6/235.6 kB\u001b[0m \u001b[31m4.6 MB/s\u001b[0m eta \u001b[36m0:00:00\u001b[0m\n",
            "\u001b[?25hRequirement already satisfied: numpy>=1.17.3 in /usr/local/lib/python3.10/dist-packages (from imbalanced-learn) (1.23.5)\n",
            "Requirement already satisfied: scipy>=1.5.0 in /usr/local/lib/python3.10/dist-packages (from imbalanced-learn) (1.11.3)\n",
            "Requirement already satisfied: scikit-learn>=1.0.2 in /usr/local/lib/python3.10/dist-packages (from imbalanced-learn) (1.2.2)\n",
            "Requirement already satisfied: joblib>=1.1.1 in /usr/local/lib/python3.10/dist-packages (from imbalanced-learn) (1.3.2)\n",
            "Requirement already satisfied: threadpoolctl>=2.0.0 in /usr/local/lib/python3.10/dist-packages (from imbalanced-learn) (3.2.0)\n",
            "Installing collected packages: imbalanced-learn\n",
            "  Attempting uninstall: imbalanced-learn\n",
            "    Found existing installation: imbalanced-learn 0.10.1\n",
            "    Uninstalling imbalanced-learn-0.10.1:\n",
            "      Successfully uninstalled imbalanced-learn-0.10.1\n",
            "Successfully installed imbalanced-learn-0.11.0\n"
          ]
        },
        {
          "output_type": "display_data",
          "data": {
            "application/vnd.colab-display-data+json": {
              "pip_warning": {
                "packages": [
                  "imblearn"
                ]
              }
            }
          },
          "metadata": {}
        }
      ]
    },
    {
      "cell_type": "code",
      "source": [
        "from sklearn.utils.class_weight import compute_sample_weight\n",
        "# Obtendo os nomes dos personagens, as casas correspondentes e os atributos\n",
        "X = data['Name']\n",
        "y = data['House']\n",
        "atributos = data['Attributes']\n",
        "\n",
        "# Vetorização dos nomes dos personagens\n",
        "vectorizer_nome = CountVectorizer()\n",
        "X_vetorizado = vectorizer_nome.fit_transform(X)\n",
        "\n",
        "# Vetorização dos atributos das casas\n",
        "atributos_vectorizer = CountVectorizer()\n",
        "atributos_vetorizados = atributos_vectorizer.fit_transform(atributos)\n",
        "\n",
        "# Concatenando os vetores de atributos com os vetores de nomes dos personagens\n",
        "X_com_atributos = hstack([X_vetorizado, atributos_vetorizados])\n",
        "\n",
        "# Designação dos pesos para as classes\n",
        "pesos_classes = {\n",
        "    'Gryffindor': 1,\n",
        "    'Slytherin': 1,\n",
        "    'Ravenclaw': 2,\n",
        "    'Hufflepuff': 3\n",
        "}\n",
        "\n",
        "# Calculando os pesos das amostras com base nas classes\n",
        "pesos_amostras = compute_sample_weight(class_weight=pesos_classes, y=y)\n",
        "\n",
        "# Inicialização do modelo Naive Bayes com pesos nas amostras\n",
        "modelo_naive_bayes = MultinomialNB()\n",
        "\n",
        "# Treinamento do modelo com pesos nas amostras\n",
        "modelo_naive_bayes.fit(X_com_atributos, y, sample_weight=pesos_amostras)\n",
        "\n",
        "# Fazendo previsões\n",
        "previsoes = modelo_naive_bayes.predict(X_com_atributos)\n",
        "\n",
        "# Exibindo o relatório de classificação\n",
        "relatorio_classificacao = classification_report(y, previsoes)\n",
        "print(\"Relatório de Classificação:\")\n",
        "print(relatorio_classificacao)"
      ],
      "metadata": {
        "colab": {
          "base_uri": "https://localhost:8080/"
        },
        "id": "Cd568DtwTYXA",
        "outputId": "b965ac7e-6fc3-47d7-9ab1-15e85ebe30f1"
      },
      "execution_count": 114,
      "outputs": [
        {
          "output_type": "stream",
          "name": "stdout",
          "text": [
            "Relatório de Classificação:\n",
            "              precision    recall  f1-score   support\n",
            "\n",
            "  Gryffindor       1.00      1.00      1.00        38\n",
            "  Hufflepuff       1.00      1.00      1.00        13\n",
            "   Ravenclaw       1.00      1.00      1.00        18\n",
            "   Slytherin       1.00      1.00      1.00        28\n",
            "\n",
            "    accuracy                           1.00        97\n",
            "   macro avg       1.00      1.00      1.00        97\n",
            "weighted avg       1.00      1.00      1.00        97\n",
            "\n"
          ]
        }
      ]
    }
  ]
}