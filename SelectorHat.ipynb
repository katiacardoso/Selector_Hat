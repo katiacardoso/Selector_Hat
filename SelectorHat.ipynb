{
  "nbformat": 4,
  "nbformat_minor": 0,
  "metadata": {
    "colab": {
      "provenance": [],
      "authorship_tag": "ABX9TyPtbtWYH/8sorNzQz531tJ7",
      "include_colab_link": true
    },
    "kernelspec": {
      "name": "python3",
      "display_name": "Python 3"
    },
    "language_info": {
      "name": "python"
    }
  },
  "cells": [
    {
      "cell_type": "markdown",
      "metadata": {
        "id": "view-in-github",
        "colab_type": "text"
      },
      "source": [
        "<a href=\"https://colab.research.google.com/github/katiacardoso/Selector_Hat/blob/main/SelectorHat.ipynb\" target=\"_parent\"><img src=\"https://colab.research.google.com/assets/colab-badge.svg\" alt=\"Open In Colab\"/></a>"
      ]
    },
    {
      "cell_type": "markdown",
      "source": [
        "Importação dos dados"
      ],
      "metadata": {
        "id": "M7tw6IgG0QG0"
      }
    },
    {
      "cell_type": "code",
      "execution_count": 28,
      "metadata": {
        "id": "5O0oEs-LFFRZ"
      },
      "outputs": [],
      "source": [
        "import pandas as pd\n",
        "import requests\n",
        "from io import StringIO\n",
        "from sklearn.model_selection import train_test_split\n",
        "from sklearn.feature_extraction.text import CountVectorizer\n",
        "from sklearn.naive_bayes import MultinomialNB\n",
        "from sklearn.metrics import classification_report\n",
        "\n",
        "#importação dos dados\n",
        "url = 'https://raw.githubusercontent.com/katiacardoso/Selector_Hat/main/dataset.csv'\n",
        "\n",
        "# Baixar o conteúdo do arquivo usando requests\n",
        "response = requests.get(url)\n",
        "\n",
        "# Verificar se a requisição foi bem-sucedida\n",
        "if response.status_code == 200:\n",
        "    # Criar um objeto pandas DataFrame a partir do conteúdo baixado\n",
        "    data = pd.read_csv(StringIO(response.text), usecols=['Name', 'House'], delimiter=';')\n",
        "    # Agora você pode usar o DataFrame 'data' normalmente\n",
        "else:\n",
        "    print(\"Falha ao baixar o arquivo. Código de status:\", response.status_code)"
      ]
    },
    {
      "cell_type": "markdown",
      "source": [
        "Enriquecendo a base com caracteristicas das casas"
      ],
      "metadata": {
        "id": "tZwz_95s0TwW"
      }
    },
    {
      "cell_type": "code",
      "source": [
        "'''# Dicionários com características das casas\n",
        "caracteristicas_grifinoria = {'coragem': 'alta', 'astucia': 'baixa', 'inteligencia': 'média', 'lealdade': 'alta'}\n",
        "caracteristicas_sonserina = {'coragem': 'baixa', 'astucia': 'alta', 'inteligencia': 'alta', 'lealdade': 'baixa'}\n",
        "caracteristicas_corvinal = {'coragem': 'média', 'astucia': 'média', 'inteligencia': 'alta', 'lealdade': 'alta'}\n",
        "caracteristicas_lufalufa = {'coragem': 'baixa', 'astucia': 'baixa', 'inteligencia': 'média', 'lealdade': 'alta'}\n",
        "\n",
        "# Adicione colunas para as características das casas e inicialize com valores vazios\n",
        "for caracteristica in ['coragem', 'astucia', 'inteligencia', 'lealdade']:\n",
        "    data[caracteristica] = ''\n",
        "\n",
        "# Preencha as características das casas no DataFrame\n",
        "for index, row in data.iterrows():\n",
        "    casa = row['House']  # Supondo que o nome da coluna da casa seja 'Casa'\n",
        "    if casa == 'Gryffindor':\n",
        "        data.at[index, 'coragem'] = caracteristicas_grifinoria['coragem']\n",
        "        data.at[index, 'astucia'] = caracteristicas_grifinoria['astucia']\n",
        "        data.at[index, 'inteligencia'] = caracteristicas_grifinoria['inteligencia']\n",
        "        data.at[index, 'lealdade'] = caracteristicas_grifinoria['lealdade']\n",
        "    elif casa == 'Slytherin':\n",
        "        data.at[index, 'coragem'] = caracteristicas_sonserina['coragem']\n",
        "        data.at[index, 'astucia'] = caracteristicas_sonserina['astucia']\n",
        "        data.at[index, 'inteligencia'] = caracteristicas_sonserina['inteligencia']\n",
        "        data.at[index, 'lealdade'] = caracteristicas_sonserina['lealdade']\n",
        "    elif casa == 'Ravenclaw':\n",
        "        data.at[index, 'coragem'] = caracteristicas_corvinal['coragem']\n",
        "        data.at[index, 'astucia'] = caracteristicas_corvinal['astucia']\n",
        "        data.at[index, 'inteligencia'] = caracteristicas_corvinal['inteligencia']\n",
        "        data.at[index, 'lealdade'] = caracteristicas_corvinal['lealdade']\n",
        "    elif casa == 'Hufflepuff':\n",
        "        data.at[index, 'coragem'] = caracteristicas_lufalufa['coragem']\n",
        "        data.at[index, 'astucia'] = caracteristicas_lufalufa['astucia']\n",
        "        data.at[index, 'inteligencia'] = caracteristicas_lufalufa['inteligencia']\n",
        "        data.at[index, 'lealdade'] = caracteristicas_lufalufa['lealdade']\n",
        "\n",
        "# Salve o DataFrame atualizado no mesmo arquivo CSV\n",
        "data.to_csv('dataset_enriquecido.csv', index=False)'''"
      ],
      "metadata": {
        "colab": {
          "base_uri": "https://localhost:8080/",
          "height": 258
        },
        "id": "ThDZN4Po0Xea",
        "outputId": "fb26d3ce-0fad-4fad-c69b-e7de8bca78cc"
      },
      "execution_count": 29,
      "outputs": [
        {
          "output_type": "execute_result",
          "data": {
            "text/plain": [
              "\"# Dicionários com características das casas\\ncaracteristicas_grifinoria = {'coragem': 'alta', 'astucia': 'baixa', 'inteligencia': 'média', 'lealdade': 'alta'}\\ncaracteristicas_sonserina = {'coragem': 'baixa', 'astucia': 'alta', 'inteligencia': 'alta', 'lealdade': 'baixa'}\\ncaracteristicas_corvinal = {'coragem': 'média', 'astucia': 'média', 'inteligencia': 'alta', 'lealdade': 'alta'}\\ncaracteristicas_lufalufa = {'coragem': 'baixa', 'astucia': 'baixa', 'inteligencia': 'média', 'lealdade': 'alta'}\\n\\n# Adicione colunas para as características das casas e inicialize com valores vazios\\nfor caracteristica in ['coragem', 'astucia', 'inteligencia', 'lealdade']:\\n    data[caracteristica] = ''\\n\\n# Preencha as características das casas no DataFrame\\nfor index, row in data.iterrows():\\n    casa = row['House']  # Supondo que o nome da coluna da casa seja 'Casa'\\n    if casa == 'Gryffindor':\\n        data.at[index, 'coragem'] = caracteristicas_grifinoria['coragem']\\n        data.at[index, 'astucia'] = caracteristicas_grifinoria['astucia']\\n        data.at[index, 'inteligencia'] = caracteristicas_grifinoria['inteligencia']\\n        data.at[index, 'lealdade'] = caracteristicas_grifinoria['lealdade']\\n    elif casa == 'Slytherin':\\n        data.at[index, 'coragem'] = caracteristicas_sonserina['coragem']\\n        data.at[index, 'astucia'] = caracteristicas_sonserina['astucia']\\n        data.at[index, 'inteligencia'] = caracteristicas_sonserina['inteligencia']\\n        data.at[index, 'lealdade'] = caracteristicas_sonserina['lealdade']\\n    elif casa == 'Ravenclaw':\\n        data.at[index, 'coragem'] = caracteristicas_corvinal['coragem']\\n        data.at[index, 'astucia'] = caracteristicas_corvinal['astucia']\\n        data.at[index, 'inteligencia'] = caracteristicas_corvinal['inteligencia']\\n        data.at[index, 'lealdade'] = caracteristicas_corvinal['lealdade']\\n    elif casa == 'Hufflepuff':\\n        data.at[index, 'coragem'] = caracteristicas_lufalufa['coragem']\\n        data.at[index, 'astucia'] = caracteristicas_lufalufa['astucia']\\n        data.at[index, 'inteligencia'] = caracteristicas_lufalufa['inteligencia']\\n        data.at[index, 'lealdade'] = caracteristicas_lufalufa['lealdade']\\n\\n# Salve o DataFrame atualizado no mesmo arquivo CSV\\ndata.to_csv('dataset_enriquecido.csv', index=False)\""
            ],
            "application/vnd.google.colaboratory.intrinsic+json": {
              "type": "string"
            }
          },
          "metadata": {},
          "execution_count": 29
        }
      ]
    },
    {
      "cell_type": "code",
      "source": [
        "# Adicione colunas para as características das casas e inicialize com valores vazios\n",
        "data['Attributes'] = ''\n",
        "\n",
        "# Preencha as características das casas no DataFrame\n",
        "for index, row in data.iterrows():\n",
        "    casa = row['House']  # Supondo que o nome da coluna da casa seja 'Casa'\n",
        "    if casa == 'Gryffindor':\n",
        "        data.at[index, 'Attributes'] = 'Coragem, Bravura, Determinação'\n",
        "    elif casa == 'Slytherin':\n",
        "        data.at[index, 'Attributes'] = 'Astúcia, Ambição, Determinação'\n",
        "    elif casa == 'Ravenclaw':\n",
        "        data.at[index, 'Attributes'] = 'Inteligência, Criatividade, Sabedoria'\n",
        "    elif casa == 'Hufflepuff':\n",
        "        data.at[index, 'Attributes'] = 'Lealdade, Paciência, Gentileza'\n",
        "\n",
        "#Salve o DataFrame atualizado no mesmo arquivo CSV\n",
        "data.to_csv('dataset_enriquecido.csv', index=False)"
      ],
      "metadata": {
        "id": "PHwJEOsB2h5L"
      },
      "execution_count": 30,
      "outputs": []
    },
    {
      "cell_type": "code",
      "source": [
        "# Obtém os nomes dos personagens, as casas correspondentes e os atributos de cada casa\n",
        "X = data['Name']\n",
        "y = data['House']\n",
        "a = data['Attributes']\n",
        "\n",
        "\n",
        "# Divisão dos dados em conjuntos de treino e teste (80% para treino, 20% para teste)\n",
        "X_treino, X_teste, y_treino, y_teste, a_treino, a_teste = train_test_split(X, y, a, test_size=0.2, random_state=42)\n",
        "\n",
        "# Vetorização dos dados de texto e dos atributos\n",
        "vectorizer = CountVectorizer()\n",
        "X_treino_vetorizado = vectorizer.fit_transform(X_treino)\n",
        "X_teste_vetorizado = vectorizer.transform(X_teste)\n",
        "\n",
        "# Inicialização e treinamento do modelo Naive Bayes\n",
        "modelo_naive_bayes = MultinomialNB()\n",
        "modelo_naive_bayes.fit(X_treino_vetorizado, y_treino)\n",
        "\n",
        "# Faz a previsão da casa para os dados de teste\n",
        "previsoes = modelo_naive_bayes.predict(X_teste_vetorizado)\n",
        "\n",
        "# Gera o relatório de classificação para análise de erros\n",
        "relatorio_classificacao = classification_report(y_teste, previsoes)\n",
        "\n",
        "# Exibe o relatório de classificação no terminal\n",
        "print(\"Relatório de Classificação:\")\n",
        "print(relatorio_classificacao)\n",
        "\n",
        "# Analisa os casos em que o modelo falhou (por exemplo, quando a previsão foi 'Grifinória' mas a casa real era 'Lufa-Lufa')\n",
        "indices_erros = [i for i, (real, previsto) in enumerate(zip(y_teste, previsoes)) if real != previsto]\n",
        "\n",
        "print(\"\\nExemplos de Erros:\")\n",
        "for indice in indices_erros[:min(15, len(indices_erros))]:  # Exibe no máximo 5 exemplos de erros\n",
        "    print(f\"Nome: {X_teste.iloc[indice]}, Real: {y_teste.iloc[indice]}, Previsto: {previsoes[indice]}, Atributos: {a_teste.iloc[indice]}\")"
      ],
      "metadata": {
        "colab": {
          "base_uri": "https://localhost:8080/"
        },
        "id": "zPItFndh0caX",
        "outputId": "c4eefeeb-ba03-4171-af86-0119bdeafc69"
      },
      "execution_count": 32,
      "outputs": [
        {
          "output_type": "stream",
          "name": "stdout",
          "text": [
            "Relatório de Classificação:\n",
            "                              precision    recall  f1-score   support\n",
            "\n",
            "Beauxbatons Academy of Magic       0.00      0.00      0.00         1\n",
            "                  Gryffindor       0.44      1.00      0.62         8\n",
            "                  Hufflepuff       0.00      0.00      0.00         4\n",
            "                   Ravenclaw       0.00      0.00      0.00         4\n",
            "                   Slytherin       0.67      0.50      0.57         4\n",
            "\n",
            "                    accuracy                           0.48        21\n",
            "                   macro avg       0.22      0.30      0.24        21\n",
            "                weighted avg       0.30      0.48      0.34        21\n",
            "\n",
            "\n",
            "Exemplos de Erros:\n",
            "Nome: Susan Bones, Real: Hufflepuff, Previsto: Gryffindor, Atributos: Lealdade, Paciência, Gentileza\n",
            "Nome: Pansy Parkinson, Real: Slytherin, Previsto: Gryffindor, Atributos: Astúcia, Ambição, Determinação\n",
            "Nome: Marcus Belby, Real: Ravenclaw, Previsto: Slytherin, Atributos: Inteligência, Criatividade, Sabedoria\n",
            "Nome: Salazar Slytherin, Real: Slytherin, Previsto: Gryffindor, Atributos: Astúcia, Ambição, Determinação\n",
            "Nome: Myrtle Elizabeth Warren (Moaning Myrtle), Real: Ravenclaw, Previsto: Gryffindor, Atributos: Inteligência, Criatividade, Sabedoria\n",
            "Nome: Anthony Goldstein, Real: Ravenclaw, Previsto: Gryffindor, Atributos: Inteligência, Criatividade, Sabedoria\n",
            "Nome: Cho Chang, Real: Ravenclaw, Previsto: Gryffindor, Atributos: Inteligência, Criatividade, Sabedoria\n",
            "Nome: Pomona Sprout, Real: Hufflepuff, Previsto: Gryffindor, Atributos: Lealdade, Paciência, Gentileza\n",
            "Nome: Gabrielle Delacour, Real: Beauxbatons Academy of Magic, Previsto: Gryffindor, Atributos: \n",
            "Nome: Newton Scamander, Real: Hufflepuff, Previsto: Gryffindor, Atributos: Lealdade, Paciência, Gentileza\n",
            "Nome: Nymphadora Tonks, Real: Hufflepuff, Previsto: Gryffindor, Atributos: Lealdade, Paciência, Gentileza\n"
          ]
        },
        {
          "output_type": "stream",
          "name": "stderr",
          "text": [
            "/usr/local/lib/python3.10/dist-packages/sklearn/metrics/_classification.py:1344: UndefinedMetricWarning: Precision and F-score are ill-defined and being set to 0.0 in labels with no predicted samples. Use `zero_division` parameter to control this behavior.\n",
            "  _warn_prf(average, modifier, msg_start, len(result))\n",
            "/usr/local/lib/python3.10/dist-packages/sklearn/metrics/_classification.py:1344: UndefinedMetricWarning: Precision and F-score are ill-defined and being set to 0.0 in labels with no predicted samples. Use `zero_division` parameter to control this behavior.\n",
            "  _warn_prf(average, modifier, msg_start, len(result))\n",
            "/usr/local/lib/python3.10/dist-packages/sklearn/metrics/_classification.py:1344: UndefinedMetricWarning: Precision and F-score are ill-defined and being set to 0.0 in labels with no predicted samples. Use `zero_division` parameter to control this behavior.\n",
            "  _warn_prf(average, modifier, msg_start, len(result))\n"
          ]
        }
      ]
    }
  ]
}