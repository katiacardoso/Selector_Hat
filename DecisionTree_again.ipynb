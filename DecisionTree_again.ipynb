{
  "nbformat": 4,
  "nbformat_minor": 0,
  "metadata": {
    "colab": {
      "provenance": [],
      "authorship_tag": "ABX9TyNyCxKZ3LUZY+jVOfX9yubB",
      "include_colab_link": true
    },
    "kernelspec": {
      "name": "python3",
      "display_name": "Python 3"
    },
    "language_info": {
      "name": "python"
    }
  },
  "cells": [
    {
      "cell_type": "markdown",
      "metadata": {
        "id": "view-in-github",
        "colab_type": "text"
      },
      "source": [
        "<a href=\"https://colab.research.google.com/github/katiacardoso/Selector_Hat/blob/main/DecisionTree_again.ipynb\" target=\"_parent\"><img src=\"https://colab.research.google.com/assets/colab-badge.svg\" alt=\"Open In Colab\"/></a>"
      ]
    },
    {
      "cell_type": "code",
      "execution_count": 449,
      "metadata": {
        "id": "lNUGoHDZlBh7"
      },
      "outputs": [],
      "source": [
        "from sklearn.tree import DecisionTreeClassifier\n",
        "from sklearn.model_selection import train_test_split\n",
        "from sklearn.preprocessing import LabelEncoder\n",
        "import pandas as pd\n",
        "import numpy as np\n",
        "import random\n",
        "\n",
        "from sklearn.metrics import accuracy_score\n",
        "from sklearn.metrics import classification_report\n",
        "\n",
        "from sklearn.model_selection import GridSearchCV\n",
        "\n",
        "'''# Suponha que você tenha um DataFrame chamado df com as colunas 'habilidade', 'interesse', 'personalidade' e 'casa'\n",
        "df = pd.DataFrame({\n",
        "    'habilidade': ['alta', 'baixa', 'media', 'alta', 'baixa'],\n",
        "    'interesse': ['magia', 'esportes', 'estudos', 'magia', 'estudos'],\n",
        "    'personalidade': ['extrovertido', 'introvertido', 'extrovertido', 'introvertido', 'extrovertido'],\n",
        "    'casa': ['Grifinória', 'Lufa-Lufa', 'Corvinal', 'Grifinória', 'Sonserina']\n",
        "})'''\n",
        "\n",
        "# Defina as possíveis opções para cada coluna\n",
        "habilidades = ['alta', 'media', 'baixa']\n",
        "interesses = ['magia', 'esportes', 'estudos']\n",
        "personalidades = ['extrovertido', 'introvertido']\n",
        "casas = ['Grifinória', 'Lufa-Lufa', 'Corvinal', 'Sonserina']\n",
        "\n",
        "# Defina o número de exemplos que você deseja gerar\n",
        "n_exemplos = 200000\n",
        "\n",
        "# Crie listas vazias para cada coluna\n",
        "habilidade_lista = []\n",
        "interesse_lista = []\n",
        "personalidade_lista = []\n",
        "casa_lista = []\n",
        "\n",
        "# Use um loop for para gerar os dados\n",
        "for _ in range(n_exemplos):\n",
        "    habilidade_lista.append(random.choice(habilidades))\n",
        "    interesse_lista.append(random.choice(interesses))\n",
        "    personalidade_lista.append(random.choice(personalidades))\n",
        "    casa_lista.append(random.choice(casas))\n",
        "\n",
        "# Crie o DataFrame\n",
        "df = pd.DataFrame({\n",
        "    'habilidade': habilidade_lista,\n",
        "    'interesse': interesse_lista,\n",
        "    'personalidade': personalidade_lista,\n",
        "    'casa': casa_lista\n",
        "})\n",
        "\n",
        "\n",
        "df.to_csv('rf.csv', index=False)\n",
        "\n",
        "#print(df, '\\n')\n",
        "\n",
        "\n",
        "\n",
        "#df.head()\n",
        "\n",
        "# Crie um LabelEncoder para cada coluna\n",
        "le_habilidade = LabelEncoder().fit(['alta', 'media', 'baixa'])\n",
        "le_interesse = LabelEncoder().fit(['magia', 'esportes', 'estudos'])\n",
        "le_personalidade = LabelEncoder().fit(['extrovertido', 'introvertido'])\n",
        "le_casa = LabelEncoder().fit(['Grifinória', 'Lufa-Lufa', 'Corvinal', 'Sonserina'])\n",
        "\n",
        "# Transforme os dados usando os LabelEncoders\n",
        "df['habilidade'] = le_habilidade.transform(df['habilidade'])\n",
        "df['interesse'] = le_interesse.transform(df['interesse'])\n",
        "df['personalidade'] = le_personalidade.transform(df['personalidade'])\n",
        "df['casa'] = le_casa.transform(df['casa'])\n",
        "\n",
        "# Divida os dados em conjuntos de treinamento e teste\n",
        "X_train, X_test, y_train, y_test = train_test_split(df[['habilidade', 'interesse', 'personalidade']], df['casa'], test_size=0.3)\n",
        "\n",
        "\n",
        "\n",
        "from imblearn.over_sampling import RandomOverSampler\n",
        "\n",
        "# Crie o oversampler\n",
        "ros = RandomOverSampler(random_state=42)\n",
        "\n",
        "# Ajuste e aplique o oversampler\n",
        "X_resampled, y_resampled = ros.fit_resample(X_train, y_train)\n",
        "\n",
        "# Agora, X_resampled e y_resampled são seus dados balanceados\n",
        "\n",
        "# Conte o número de ocorrências de cada classe\n",
        "contagem = np.bincount(y_resampled)\n",
        "\n",
        "# Imprima a contagem para cada casa\n",
        "#for casa, cont in zip(le_casa.classes_, contagem):\n",
        "#    print(f\"A casa {casa} tem {cont} alunos após o balanceamento.\")\n",
        "\n",
        "\n",
        "\n",
        "# Defina os hiperparâmetros a serem ajustados\n",
        "param_grid = {\n",
        "    'max_depth': [None, 10, 20, 30],\n",
        "    'min_samples_split': [2, 5, 10],\n",
        "    'min_samples_leaf': [1, 2, 4]\n",
        "}\n",
        "\n",
        "# Crie o objeto GridSearchCV\n",
        "grid_search = GridSearchCV(DecisionTreeClassifier(random_state=42), param_grid, cv=5)\n",
        "\n",
        "# Ajuste o GridSearchCV aos dados de treinamento\n",
        "grid_search.fit(X_train, y_train)\n",
        "\n",
        "# Imprima os melhores hiperparâmetros\n",
        "#print(grid_search.best_params_)\n",
        "\n",
        "# Use o melhor modelo para fazer previsões\n",
        "model = grid_search.best_estimator_\n",
        "\n"
      ]
    },
    {
      "cell_type": "code",
      "source": [
        "# Obtenha as probabilidades para um novo aluno\n",
        "novo_aluno = np.array([\n",
        "    le_habilidade.transform(['alta'])[0],\n",
        "    le_interesse.transform(['magia'])[0],\n",
        "    le_personalidade.transform(['extrovertido'])[0]\n",
        "]).reshape(1, -1)\n",
        "\n",
        "casa_prevista = le_casa.inverse_transform(model.predict(novo_aluno))\n",
        "print(casa_prevista)\n",
        "\n",
        "\n",
        "probabilidades = model.predict_proba(novo_aluno)\n",
        "\n",
        "# Imprima as probabilidades para cada casa\n",
        "for casa, probabilidade in zip(le_casa.classes_, probabilidades[0]):\n",
        "    print(f\"A probabilidade do novo aluno pertencer à casa {casa} é {probabilidade}\")"
      ],
      "metadata": {
        "colab": {
          "base_uri": "https://localhost:8080/"
        },
        "id": "k0w8Gt7Slhm7",
        "outputId": "4b011e4e-a9bb-4752-c981-2ae658e4b584"
      },
      "execution_count": 450,
      "outputs": [
        {
          "output_type": "stream",
          "name": "stdout",
          "text": [
            "['Lufa-Lufa']\n",
            "A probabilidade do novo aluno pertencer à casa Corvinal é 0.2473328129065834\n",
            "A probabilidade do novo aluno pertencer à casa Grifinória é 0.250975800156128\n",
            "A probabilidade do novo aluno pertencer à casa Lufa-Lufa é 0.2526671870934166\n",
            "A probabilidade do novo aluno pertencer à casa Sonserina é 0.24902419984387197\n"
          ]
        },
        {
          "output_type": "stream",
          "name": "stderr",
          "text": [
            "/usr/local/lib/python3.10/dist-packages/sklearn/base.py:439: UserWarning: X does not have valid feature names, but DecisionTreeClassifier was fitted with feature names\n",
            "  warnings.warn(\n",
            "/usr/local/lib/python3.10/dist-packages/sklearn/base.py:439: UserWarning: X does not have valid feature names, but DecisionTreeClassifier was fitted with feature names\n",
            "  warnings.warn(\n"
          ]
        }
      ]
    },
    {
      "cell_type": "code",
      "source": [
        "# Obtenha a importância das características\n",
        "importances = model.feature_importances_\n",
        "\n",
        "# Crie um DataFrame para exibir as importâncias\n",
        "df = pd.DataFrame({\n",
        "    'Característica': ['habilidade', 'interesse', 'personalidade'],\n",
        "    'Importância': importances\n",
        "})\n",
        "\n",
        "# Ordene o DataFrame por importância\n",
        "df = df.sort_values(by='Importância', ascending=False)\n",
        "\n",
        "# Imprima o DataFrame\n",
        "print(df)"
      ],
      "metadata": {
        "colab": {
          "base_uri": "https://localhost:8080/"
        },
        "id": "Mi2BOymrMoGq",
        "outputId": "017ae30f-1a18-4719-ed7a-7fe079194644"
      },
      "execution_count": 432,
      "outputs": [
        {
          "output_type": "stream",
          "name": "stdout",
          "text": [
            "  Característica  Importância\n",
            "1      interesse     0.401613\n",
            "0     habilidade     0.330645\n",
            "2  personalidade     0.267742\n"
          ]
        }
      ]
    },
    {
      "cell_type": "code",
      "source": [
        "\n",
        "# Faça previsões no conjunto de teste\n",
        "y_pred = model.predict(X_test)\n",
        "\n",
        "# Calcule a acurácia\n",
        "acuracia = accuracy_score(y_test, y_pred)\n",
        "print(acuracia)\n",
        "#ou\n",
        "acuracia = model.score(X_test, y_test)\n",
        "print(acuracia)\n",
        "\n",
        "\n",
        "unique_classes = np.unique(np.concatenate((y_test, y_pred)))\n",
        "relatorio = classification_report(y_test, y_pred, target_names=le_casa.inverse_transform(unique_classes))\n",
        "print(relatorio)\n",
        "\n",
        "# Agora você pode usar inverse_transform para obter os rótulos originais\n",
        "X_train['habilidade'] = le_habilidade.inverse_transform(X_train['habilidade'])\n",
        "X_train['interesse'] = le_interesse.inverse_transform(X_train['interesse'])\n",
        "X_train['personalidade'] = le_personalidade.inverse_transform(X_train['personalidade'])\n",
        "\n",
        "X_test['habilidade'] = le_habilidade.inverse_transform(X_test['habilidade'])\n",
        "X_test['interesse'] = le_interesse.inverse_transform(X_test['interesse'])\n",
        "X_test['personalidade'] = le_personalidade.inverse_transform(X_test['personalidade'])\n",
        "\n",
        "y_train = le_casa.inverse_transform(y_train)\n",
        "y_test = le_casa.inverse_transform(y_test)\n",
        "\n",
        "# Agora você pode visualizar os dados de treinamento e teste com os rótulos originais\n",
        "print(\"Dados de treinamento:\")\n",
        "print(X_train)\n",
        "print(y_train)\n",
        "\n",
        "print(\"\\nDados de teste:\")\n",
        "print(X_test)\n",
        "print(y_test)\n",
        "\n"
      ],
      "metadata": {
        "colab": {
          "base_uri": "https://localhost:8080/"
        },
        "id": "JfRBqSuSAm1V",
        "outputId": "25cdeedd-4ccd-44d6-f020-0c3ad6431999"
      },
      "execution_count": 451,
      "outputs": [
        {
          "output_type": "stream",
          "name": "stdout",
          "text": [
            "0.2486\n",
            "0.2486\n",
            "              precision    recall  f1-score   support\n",
            "\n",
            "    Corvinal       0.25      0.17      0.20     15106\n",
            "  Grifinória       0.24      0.05      0.09     14992\n",
            "   Lufa-Lufa       0.25      0.56      0.34     14890\n",
            "   Sonserina       0.25      0.22      0.23     15012\n",
            "\n",
            "    accuracy                           0.25     60000\n",
            "   macro avg       0.25      0.25      0.22     60000\n",
            "weighted avg       0.25      0.25      0.22     60000\n",
            "\n",
            "Dados de treinamento:\n",
            "       habilidade interesse personalidade\n",
            "139958      baixa     magia  introvertido\n",
            "139135      baixa  esportes  introvertido\n",
            "7576        baixa  esportes  extrovertido\n",
            "8663        baixa  esportes  introvertido\n",
            "140134      baixa  esportes  extrovertido\n",
            "...           ...       ...           ...\n",
            "80558        alta     magia  extrovertido\n",
            "195444      media   estudos  introvertido\n",
            "12277       baixa   estudos  extrovertido\n",
            "67946       baixa   estudos  extrovertido\n",
            "2556        media  esportes  introvertido\n",
            "\n",
            "[140000 rows x 3 columns]\n",
            "['Corvinal' 'Sonserina' 'Lufa-Lufa' ... 'Grifinória' 'Corvinal'\n",
            " 'Sonserina']\n",
            "\n",
            "Dados de teste:\n",
            "       habilidade interesse personalidade\n",
            "92784       media  esportes  extrovertido\n",
            "65284       baixa   estudos  introvertido\n",
            "174705       alta   estudos  introvertido\n",
            "146789      media  esportes  introvertido\n",
            "110306       alta   estudos  extrovertido\n",
            "...           ...       ...           ...\n",
            "57284       baixa     magia  introvertido\n",
            "85093       baixa     magia  extrovertido\n",
            "191412       alta  esportes  introvertido\n",
            "156087      media     magia  introvertido\n",
            "43678        alta  esportes  introvertido\n",
            "\n",
            "[60000 rows x 3 columns]\n",
            "['Sonserina' 'Grifinória' 'Grifinória' ... 'Corvinal' 'Corvinal'\n",
            " 'Sonserina']\n"
          ]
        }
      ]
    }
  ]
}