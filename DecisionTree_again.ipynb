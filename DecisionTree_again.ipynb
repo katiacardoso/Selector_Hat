{
  "nbformat": 4,
  "nbformat_minor": 0,
  "metadata": {
    "colab": {
      "provenance": [],
      "authorship_tag": "ABX9TyP5GSyAh/NX7a//dWKizMti",
      "include_colab_link": true
    },
    "kernelspec": {
      "name": "python3",
      "display_name": "Python 3"
    },
    "language_info": {
      "name": "python"
    }
  },
  "cells": [
    {
      "cell_type": "markdown",
      "metadata": {
        "id": "view-in-github",
        "colab_type": "text"
      },
      "source": [
        "<a href=\"https://colab.research.google.com/github/katiacardoso/Selector_Hat/blob/main/DecisionTree_again.ipynb\" target=\"_parent\"><img src=\"https://colab.research.google.com/assets/colab-badge.svg\" alt=\"Open In Colab\"/></a>"
      ]
    },
    {
      "cell_type": "code",
      "source": [
        "from sklearn.tree import DecisionTreeClassifier\n",
        "from sklearn.model_selection import train_test_split\n",
        "from sklearn.preprocessing import LabelEncoder\n",
        "import pandas as pd\n",
        "import numpy as np\n",
        "import random\n",
        "\n",
        "from sklearn.metrics import accuracy_score\n",
        "from sklearn.metrics import classification_report\n",
        "\n",
        "from sklearn.model_selection import GridSearchCV\n",
        "from itertools import product"
      ],
      "metadata": {
        "id": "i6gzavJ52Imr"
      },
      "execution_count": 1,
      "outputs": []
    },
    {
      "cell_type": "code",
      "execution_count": 36,
      "metadata": {
        "colab": {
          "base_uri": "https://localhost:8080/",
          "height": 167
        },
        "id": "lNUGoHDZlBh7",
        "outputId": "8a536f90-06c5-4f91-bbe1-de236c9a7495"
      },
      "outputs": [
        {
          "output_type": "stream",
          "name": "stdout",
          "text": [
            "Grifinória    2160\n",
            "Lufa-Lufa     2160\n",
            "Corvinal      2160\n",
            "Sonserina     2160\n",
            "Name: casa, dtype: int64\n"
          ]
        },
        {
          "output_type": "execute_result",
          "data": {
            "text/plain": [
              "DecisionTreeClassifier(max_depth=7, min_samples_leaf=4, random_state=42)"
            ],
            "text/html": [
              "<style>#sk-container-id-6 {color: black;background-color: white;}#sk-container-id-6 pre{padding: 0;}#sk-container-id-6 div.sk-toggleable {background-color: white;}#sk-container-id-6 label.sk-toggleable__label {cursor: pointer;display: block;width: 100%;margin-bottom: 0;padding: 0.3em;box-sizing: border-box;text-align: center;}#sk-container-id-6 label.sk-toggleable__label-arrow:before {content: \"▸\";float: left;margin-right: 0.25em;color: #696969;}#sk-container-id-6 label.sk-toggleable__label-arrow:hover:before {color: black;}#sk-container-id-6 div.sk-estimator:hover label.sk-toggleable__label-arrow:before {color: black;}#sk-container-id-6 div.sk-toggleable__content {max-height: 0;max-width: 0;overflow: hidden;text-align: left;background-color: #f0f8ff;}#sk-container-id-6 div.sk-toggleable__content pre {margin: 0.2em;color: black;border-radius: 0.25em;background-color: #f0f8ff;}#sk-container-id-6 input.sk-toggleable__control:checked~div.sk-toggleable__content {max-height: 200px;max-width: 100%;overflow: auto;}#sk-container-id-6 input.sk-toggleable__control:checked~label.sk-toggleable__label-arrow:before {content: \"▾\";}#sk-container-id-6 div.sk-estimator input.sk-toggleable__control:checked~label.sk-toggleable__label {background-color: #d4ebff;}#sk-container-id-6 div.sk-label input.sk-toggleable__control:checked~label.sk-toggleable__label {background-color: #d4ebff;}#sk-container-id-6 input.sk-hidden--visually {border: 0;clip: rect(1px 1px 1px 1px);clip: rect(1px, 1px, 1px, 1px);height: 1px;margin: -1px;overflow: hidden;padding: 0;position: absolute;width: 1px;}#sk-container-id-6 div.sk-estimator {font-family: monospace;background-color: #f0f8ff;border: 1px dotted black;border-radius: 0.25em;box-sizing: border-box;margin-bottom: 0.5em;}#sk-container-id-6 div.sk-estimator:hover {background-color: #d4ebff;}#sk-container-id-6 div.sk-parallel-item::after {content: \"\";width: 100%;border-bottom: 1px solid gray;flex-grow: 1;}#sk-container-id-6 div.sk-label:hover label.sk-toggleable__label {background-color: #d4ebff;}#sk-container-id-6 div.sk-serial::before {content: \"\";position: absolute;border-left: 1px solid gray;box-sizing: border-box;top: 0;bottom: 0;left: 50%;z-index: 0;}#sk-container-id-6 div.sk-serial {display: flex;flex-direction: column;align-items: center;background-color: white;padding-right: 0.2em;padding-left: 0.2em;position: relative;}#sk-container-id-6 div.sk-item {position: relative;z-index: 1;}#sk-container-id-6 div.sk-parallel {display: flex;align-items: stretch;justify-content: center;background-color: white;position: relative;}#sk-container-id-6 div.sk-item::before, #sk-container-id-6 div.sk-parallel-item::before {content: \"\";position: absolute;border-left: 1px solid gray;box-sizing: border-box;top: 0;bottom: 0;left: 50%;z-index: -1;}#sk-container-id-6 div.sk-parallel-item {display: flex;flex-direction: column;z-index: 1;position: relative;background-color: white;}#sk-container-id-6 div.sk-parallel-item:first-child::after {align-self: flex-end;width: 50%;}#sk-container-id-6 div.sk-parallel-item:last-child::after {align-self: flex-start;width: 50%;}#sk-container-id-6 div.sk-parallel-item:only-child::after {width: 0;}#sk-container-id-6 div.sk-dashed-wrapped {border: 1px dashed gray;margin: 0 0.4em 0.5em 0.4em;box-sizing: border-box;padding-bottom: 0.4em;background-color: white;}#sk-container-id-6 div.sk-label label {font-family: monospace;font-weight: bold;display: inline-block;line-height: 1.2em;}#sk-container-id-6 div.sk-label-container {text-align: center;}#sk-container-id-6 div.sk-container {/* jupyter's `normalize.less` sets `[hidden] { display: none; }` but bootstrap.min.css set `[hidden] { display: none !important; }` so we also need the `!important` here to be able to override the default hidden behavior on the sphinx rendered scikit-learn.org. See: https://github.com/scikit-learn/scikit-learn/issues/21755 */display: inline-block !important;position: relative;}#sk-container-id-6 div.sk-text-repr-fallback {display: none;}</style><div id=\"sk-container-id-6\" class=\"sk-top-container\"><div class=\"sk-text-repr-fallback\"><pre>DecisionTreeClassifier(max_depth=7, min_samples_leaf=4, random_state=42)</pre><b>In a Jupyter environment, please rerun this cell to show the HTML representation or trust the notebook. <br />On GitHub, the HTML representation is unable to render, please try loading this page with nbviewer.org.</b></div><div class=\"sk-container\" hidden><div class=\"sk-item\"><div class=\"sk-estimator sk-toggleable\"><input class=\"sk-toggleable__control sk-hidden--visually\" id=\"sk-estimator-id-6\" type=\"checkbox\" checked><label for=\"sk-estimator-id-6\" class=\"sk-toggleable__label sk-toggleable__label-arrow\">DecisionTreeClassifier</label><div class=\"sk-toggleable__content\"><pre>DecisionTreeClassifier(max_depth=7, min_samples_leaf=4, random_state=42)</pre></div></div></div></div></div>"
            ]
          },
          "metadata": {},
          "execution_count": 36
        }
      ],
      "source": [
        "\n",
        "\n",
        "'''# Suponha que você tenha um DataFrame chamado df com as colunas 'habilidade', 'interesse', 'personalidade' e 'casa'\n",
        "df = pd.DataFrame({\n",
        "    'habilidade': ['alta', 'baixa', 'media', 'alta', 'baixa'],\n",
        "    'interesse': ['magia', 'esportes', 'estudos', 'magia', 'estudos'],\n",
        "    'personalidade': ['extrovertido', 'introvertido', 'extrovertido', 'introvertido', 'extrovertido'],\n",
        "    'casa': ['Grifinória', 'Lufa-Lufa', 'Corvinal', 'Grifinória', 'Sonserina']\n",
        "})'''\n",
        "\n",
        "# Defina as possíveis opções para cada coluna\n",
        "habilidades = ['alta', 'media', 'baixa']\n",
        "interesses = ['magia', 'esportes', 'estudos']\n",
        "personalidades = ['extrovertido', 'introvertido']\n",
        "casas = ['Grifinória', 'Lufa-Lufa', 'Corvinal', 'Sonserina']\n",
        "sanguineo = ['puro', 'mestiço', 'trouxa']\n",
        "especies = ['humano', 'gigante', 'fantasma', 'lobisomem']\n",
        "cores_cabelo = ['preto', 'castanho', 'loiro', 'ruivo', 'cinza']\n",
        "cores_olhos = ['azul', 'verde', 'castanho', 'preto']\n",
        "lealdades = ['Voldemort', 'Dumbledore']\n",
        "\n",
        "\n",
        "# Crie todas as combinações possíveis\n",
        "combinacoes = list(product(habilidades, interesses, personalidades,sanguineo, especies, cores_cabelo, cores_olhos, lealdades))\n",
        "\n",
        "# Crie o DataFrame\n",
        "df = pd.DataFrame(combinacoes, columns=['habilidade', 'interesse', 'personalidade', 'sanguineo', 'especies', 'cores_cabelo', 'cores_olhos', 'lealdades'])\n",
        "\n",
        "# Adicione a coluna 'casa', atribuindo as casas de maneira rotativa\n",
        "df['casa'] = [casas[i % len(casas)] for i in range(len(df))]\n",
        "\n",
        "# Embaralhe o DataFrame para que as combinações sejam distribuídas aleatoriamente entre as casas\n",
        "#df = df.sample(frac=1).reset_index(drop=True)\n",
        "\n",
        "'''\n",
        "# Defina regras para evitar certas combinações\n",
        "regras = [\n",
        "    (df['tipo_sanguineo'] == 'x') & (df['lealdade'] == 'Voldemort') & (df['casa'] == 'Lufa-Lufa')\n",
        "]\n",
        "\n",
        "# Aplicar as regras\n",
        "for regra in regras:\n",
        "    df = df[~regra]\n",
        "'''\n",
        "\n",
        "\n",
        "\n",
        "\n",
        "\n",
        "df.to_csv('dt.csv', index=False)\n",
        "\n",
        "# Criar uma cópia do DataFrame\n",
        "df_copia = df.copy()\n",
        "\n",
        "# Salvar a cópia com um nome diferente\n",
        "df_copia.to_csv('gb.csv', index=False)\n",
        "\n",
        "#print(df, '\\n')\n",
        "\n",
        "#df.head()\n",
        "\n",
        "# Contando o número de dados de cada classe (altere para qual desejar)\n",
        "contagem_de_classes = df[\"casa\"].value_counts()\n",
        "\n",
        "# Imprimindo o resultado\n",
        "print(contagem_de_classes)\n",
        "\n",
        "# Crie um LabelEncoder para cada coluna\n",
        "le_habilidade = LabelEncoder().fit(['alta', 'media', 'baixa'])\n",
        "le_interesse = LabelEncoder().fit(['magia', 'esportes', 'estudos'])\n",
        "le_personalidade = LabelEncoder().fit(['extrovertido', 'introvertido'])\n",
        "le_casa = LabelEncoder().fit(['Grifinória', 'Lufa-Lufa', 'Corvinal', 'Sonserina'])\n",
        "le_sanguineo =  LabelEncoder().fit(['puro', 'mestiço', 'trouxa'])\n",
        "le_especies =  LabelEncoder().fit(['humano', 'gigante', 'fantasma', 'lobisomem'])\n",
        "le_cores_cabelo =  LabelEncoder().fit(['preto', 'castanho', 'loiro', 'ruivo', 'cinza'])\n",
        "le_cores_olhos =  LabelEncoder().fit(['azul', 'verde', 'castanho', 'preto'])\n",
        "le_lealdades =  LabelEncoder().fit(['Voldemort', 'Dumbledore'])\n",
        "\n",
        "# Transforme os dados usando os LabelEncoders\n",
        "df['habilidade'] = le_habilidade.transform(df['habilidade'])\n",
        "df['interesse'] = le_interesse.transform(df['interesse'])\n",
        "df['personalidade'] = le_personalidade.transform(df['personalidade'])\n",
        "df['casa'] = le_casa.transform(df['casa'])\n",
        "df['sanguineo'] = le_sanguineo.transform(df['sanguineo'])\n",
        "df['especies'] = le_especies.transform(df['especies'])\n",
        "df['cores_cabelo'] = le_cores_cabelo.transform(df['cores_cabelo'])\n",
        "df['cores_olhos'] = le_cores_olhos.transform(df['cores_olhos'])\n",
        "df['lealdades'] = le_lealdades.transform(df['lealdades'])\n",
        "\n",
        "\n",
        "X = df[['habilidade', 'interesse', 'personalidade', 'sanguineo', 'especies', 'cores_cabelo', 'cores_olhos', 'lealdades']]\n",
        "y = df['casa']\n",
        "\n",
        "\n",
        "# Divida os dados em conjuntos de treinamento e teste\n",
        "#X_train, X_test, y_train, y_test = train_test_split(X, y, test_size=0.3, stratify=y, random_state=42)\n",
        "\n",
        "from sklearn.model_selection import StratifiedShuffleSplit\n",
        "\n",
        "# Crie o objeto StratifiedShuffleSplit\n",
        "sss = StratifiedShuffleSplit(n_splits=2, test_size=0.5, random_state=42)\n",
        "\n",
        "# Use o objeto sss para dividir os dados\n",
        "for train_index, test_index in sss.split(X, y):\n",
        "    X_train, X_test = X.iloc[train_index], X.iloc[test_index]\n",
        "    y_train, y_test = y.iloc[train_index], y.iloc[test_index]\n",
        "\n",
        "\n",
        "# Crie o modelo\n",
        "model_dt = DecisionTreeClassifier(max_depth= 7, min_samples_leaf= 4, random_state=42)\n",
        "\n",
        "# Treine o modelo\n",
        "model_dt.fit(X_train, y_train)"
      ]
    },
    {
      "cell_type": "code",
      "source": [],
      "metadata": {
        "id": "NVoQvrTgvDZm"
      },
      "execution_count": null,
      "outputs": []
    },
    {
      "cell_type": "markdown",
      "source": [
        "ir testtando com quantidade menor e visualizar a previsao"
      ],
      "metadata": {
        "id": "_5IPoZpnE-p3"
      }
    },
    {
      "cell_type": "markdown",
      "source": [
        "## continuação"
      ],
      "metadata": {
        "id": "-XBGJajgnRwd"
      }
    },
    {
      "cell_type": "markdown",
      "source": [
        "testar uma validação cruzada"
      ],
      "metadata": {
        "id": "ZltEcUVQJ9lC"
      }
    },
    {
      "cell_type": "code",
      "source": [
        "from sklearn.tree import DecisionTreeClassifier\n",
        "from sklearn.model_selection import train_test_split\n",
        "from sklearn.metrics import accuracy_score\n",
        "\n",
        "# Suponha que X_train, X_test, y_train, y_test são seus conjuntos de treinamento e teste\n",
        "# Certifique-se de ter importado os dados antes de executar o código\n",
        "\n",
        "# Crie e treine o modelo de árvore de decisão sem regularização\n",
        "model_without_regularization = DecisionTreeClassifier(random_state=42)\n",
        "model_without_regularization.fit(X_train, y_train)\n",
        "\n",
        "# Faça previsões no conjunto de teste sem regularização\n",
        "y_pred_without_regularization = model_without_regularization.predict(X_test)\n",
        "\n",
        "# Avalie a acurácia do modelo sem regularização\n",
        "accuracy_without_regularization = accuracy_score(y_test, y_pred_without_regularization)\n",
        "print(f'Acurácia sem regularização: {accuracy_without_regularization}')\n",
        "\n",
        "# Crie e treine o modelo de árvore de decisão com regularização\n",
        "model_with_regularization = DecisionTreeClassifier(min_samples_split=15, min_samples_leaf=12, random_state=42)\n",
        "model_with_regularization.fit(X_train, y_train)\n",
        "\n",
        "# Faça previsões no conjunto de teste com regularização\n",
        "y_pred_with_regularization = model_with_regularization.predict(X_test)\n",
        "\n",
        "# Avalie a acurácia do modelo com regularização\n",
        "accuracy_with_regularization = accuracy_score(y_test, y_pred_with_regularization)\n",
        "print(f'Acurácia com regularização: {accuracy_with_regularization}')\n"
      ],
      "metadata": {
        "colab": {
          "base_uri": "https://localhost:8080/"
        },
        "id": "ed6sIgnsND9x",
        "outputId": "01912511-5eb1-4444-dcb6-3a5eeba2dc5a"
      },
      "execution_count": 37,
      "outputs": [
        {
          "output_type": "stream",
          "name": "stdout",
          "text": [
            "Acurácia sem regularização: 1.0\n",
            "Acurácia com regularização: 1.0\n"
          ]
        }
      ]
    },
    {
      "cell_type": "code",
      "source": [
        "# Faça previsões no conjunto de teste\n",
        "y_pred = model_dt.predict(X_test)\n",
        "\n",
        "# Calcule a acurácia\n",
        "acuracia_dt = accuracy_score(y_test, y_pred)\n",
        "print(acuracia_dt)\n",
        "#ou\n",
        "acuracia_dt = model_dt.score(X_test, y_test)\n",
        "print(acuracia_dt)\n",
        "\n",
        "\n",
        "unique_classes = np.unique(np.concatenate((y_test, y_pred)))\n",
        "relatorio = classification_report(y_test, y_pred, target_names=le_casa.inverse_transform(unique_classes))\n",
        "print(relatorio)"
      ],
      "metadata": {
        "colab": {
          "base_uri": "https://localhost:8080/"
        },
        "id": "XRRonfDHPGm5",
        "outputId": "aa9d4d68-e5c5-40a8-9f5d-1e6b5571eb50"
      },
      "execution_count": 38,
      "outputs": [
        {
          "output_type": "stream",
          "name": "stdout",
          "text": [
            "1.0\n",
            "1.0\n",
            "              precision    recall  f1-score   support\n",
            "\n",
            "    Corvinal       1.00      1.00      1.00      1080\n",
            "  Grifinória       1.00      1.00      1.00      1080\n",
            "   Lufa-Lufa       1.00      1.00      1.00      1080\n",
            "   Sonserina       1.00      1.00      1.00      1080\n",
            "\n",
            "    accuracy                           1.00      4320\n",
            "   macro avg       1.00      1.00      1.00      4320\n",
            "weighted avg       1.00      1.00      1.00      4320\n",
            "\n"
          ]
        }
      ]
    },
    {
      "cell_type": "code",
      "source": [
        "\n",
        "\n",
        "# Agora você pode usar inverse_transform para obter os rótulos originais\n",
        "X_train['habilidade'] = le_habilidade.inverse_transform(X_train['habilidade'])\n",
        "X_train['interesse'] = le_interesse.inverse_transform(X_train['interesse'])\n",
        "X_train['personalidade'] = le_personalidade.inverse_transform(X_train['personalidade'])\n",
        "X_train['sanguineo'] = le_sanguineo.inverse_transform(X_train['sanguineo'])\n",
        "X_train['especies'] = le_especies.inverse_transform(X_train['especies'])\n",
        "X_train['cores_cabelo'] = le_cores_cabelo.inverse_transform(X_train['cores_cabelo'])\n",
        "X_train['cores_olhos'] = le_cores_olhos.inverse_transform(X_train['cores_olhos'])\n",
        "X_train['lealdades'] = le_lealdades.inverse_transform(X_train['lealdades'])\n",
        "\n",
        "\n",
        "X_test['habilidade'] = le_habilidade.inverse_transform(X_test['habilidade'])\n",
        "X_test['interesse'] = le_interesse.inverse_transform(X_test['interesse'])\n",
        "X_test['personalidade'] = le_personalidade.inverse_transform(X_test['personalidade'])\n",
        "X_test['sanguineo'] = le_sanguineo.inverse_transform(X_test['sanguineo'])\n",
        "X_test['especies'] = le_especies.inverse_transform(X_test['especies'])\n",
        "X_test['cores_cabelo'] = le_cores_cabelo.inverse_transform(X_test['cores_cabelo'])\n",
        "X_test['cores_olhos'] = le_cores_olhos.inverse_transform(X_test['cores_olhos'])\n",
        "X_test['lealdades'] = le_lealdades.inverse_transform(X_test['lealdades'])\n",
        "\n",
        "\n",
        "\n",
        "print(\"Classes Previstas:\", y_pred)\n",
        "print(\"Classes Verdadeiras:\\n\", y_test)\n",
        "\n",
        "y_train = le_casa.inverse_transform(y_train)\n",
        "y_test = le_casa.inverse_transform(y_test)\n",
        "\n",
        "# Agora você pode visualizar os dados de treinamento e teste com os rótulos originais\n",
        "print(\"Dados de treinamento:\")\n",
        "print(X_train)\n",
        "print(y_train)\n",
        "\n",
        "print(\"\\nDados de teste:\")\n",
        "print(X_test)\n",
        "print(y_test)"
      ],
      "metadata": {
        "colab": {
          "base_uri": "https://localhost:8080/"
        },
        "id": "JfRBqSuSAm1V",
        "outputId": "f9f8a283-0ffb-41f8-b51e-a08f9f81535e"
      },
      "execution_count": 39,
      "outputs": [
        {
          "output_type": "stream",
          "name": "stderr",
          "text": [
            "<ipython-input-39-13715a2dc9f4>:2: SettingWithCopyWarning: \n",
            "A value is trying to be set on a copy of a slice from a DataFrame.\n",
            "Try using .loc[row_indexer,col_indexer] = value instead\n",
            "\n",
            "See the caveats in the documentation: https://pandas.pydata.org/pandas-docs/stable/user_guide/indexing.html#returning-a-view-versus-a-copy\n",
            "  X_train['habilidade'] = le_habilidade.inverse_transform(X_train['habilidade'])\n",
            "<ipython-input-39-13715a2dc9f4>:3: SettingWithCopyWarning: \n",
            "A value is trying to be set on a copy of a slice from a DataFrame.\n",
            "Try using .loc[row_indexer,col_indexer] = value instead\n",
            "\n",
            "See the caveats in the documentation: https://pandas.pydata.org/pandas-docs/stable/user_guide/indexing.html#returning-a-view-versus-a-copy\n",
            "  X_train['interesse'] = le_interesse.inverse_transform(X_train['interesse'])\n",
            "<ipython-input-39-13715a2dc9f4>:4: SettingWithCopyWarning: \n",
            "A value is trying to be set on a copy of a slice from a DataFrame.\n",
            "Try using .loc[row_indexer,col_indexer] = value instead\n",
            "\n",
            "See the caveats in the documentation: https://pandas.pydata.org/pandas-docs/stable/user_guide/indexing.html#returning-a-view-versus-a-copy\n",
            "  X_train['personalidade'] = le_personalidade.inverse_transform(X_train['personalidade'])\n",
            "<ipython-input-39-13715a2dc9f4>:5: SettingWithCopyWarning: \n",
            "A value is trying to be set on a copy of a slice from a DataFrame.\n",
            "Try using .loc[row_indexer,col_indexer] = value instead\n",
            "\n",
            "See the caveats in the documentation: https://pandas.pydata.org/pandas-docs/stable/user_guide/indexing.html#returning-a-view-versus-a-copy\n",
            "  X_train['sanguineo'] = le_sanguineo.inverse_transform(X_train['sanguineo'])\n",
            "<ipython-input-39-13715a2dc9f4>:6: SettingWithCopyWarning: \n",
            "A value is trying to be set on a copy of a slice from a DataFrame.\n",
            "Try using .loc[row_indexer,col_indexer] = value instead\n",
            "\n",
            "See the caveats in the documentation: https://pandas.pydata.org/pandas-docs/stable/user_guide/indexing.html#returning-a-view-versus-a-copy\n",
            "  X_train['especies'] = le_especies.inverse_transform(X_train['especies'])\n",
            "<ipython-input-39-13715a2dc9f4>:7: SettingWithCopyWarning: \n",
            "A value is trying to be set on a copy of a slice from a DataFrame.\n",
            "Try using .loc[row_indexer,col_indexer] = value instead\n",
            "\n",
            "See the caveats in the documentation: https://pandas.pydata.org/pandas-docs/stable/user_guide/indexing.html#returning-a-view-versus-a-copy\n",
            "  X_train['cores_cabelo'] = le_cores_cabelo.inverse_transform(X_train['cores_cabelo'])\n",
            "<ipython-input-39-13715a2dc9f4>:8: SettingWithCopyWarning: \n",
            "A value is trying to be set on a copy of a slice from a DataFrame.\n",
            "Try using .loc[row_indexer,col_indexer] = value instead\n",
            "\n",
            "See the caveats in the documentation: https://pandas.pydata.org/pandas-docs/stable/user_guide/indexing.html#returning-a-view-versus-a-copy\n",
            "  X_train['cores_olhos'] = le_cores_olhos.inverse_transform(X_train['cores_olhos'])\n",
            "<ipython-input-39-13715a2dc9f4>:9: SettingWithCopyWarning: \n",
            "A value is trying to be set on a copy of a slice from a DataFrame.\n",
            "Try using .loc[row_indexer,col_indexer] = value instead\n",
            "\n",
            "See the caveats in the documentation: https://pandas.pydata.org/pandas-docs/stable/user_guide/indexing.html#returning-a-view-versus-a-copy\n",
            "  X_train['lealdades'] = le_lealdades.inverse_transform(X_train['lealdades'])\n",
            "<ipython-input-39-13715a2dc9f4>:12: SettingWithCopyWarning: \n",
            "A value is trying to be set on a copy of a slice from a DataFrame.\n",
            "Try using .loc[row_indexer,col_indexer] = value instead\n",
            "\n",
            "See the caveats in the documentation: https://pandas.pydata.org/pandas-docs/stable/user_guide/indexing.html#returning-a-view-versus-a-copy\n",
            "  X_test['habilidade'] = le_habilidade.inverse_transform(X_test['habilidade'])\n",
            "<ipython-input-39-13715a2dc9f4>:13: SettingWithCopyWarning: \n",
            "A value is trying to be set on a copy of a slice from a DataFrame.\n",
            "Try using .loc[row_indexer,col_indexer] = value instead\n",
            "\n",
            "See the caveats in the documentation: https://pandas.pydata.org/pandas-docs/stable/user_guide/indexing.html#returning-a-view-versus-a-copy\n",
            "  X_test['interesse'] = le_interesse.inverse_transform(X_test['interesse'])\n",
            "<ipython-input-39-13715a2dc9f4>:14: SettingWithCopyWarning: \n",
            "A value is trying to be set on a copy of a slice from a DataFrame.\n",
            "Try using .loc[row_indexer,col_indexer] = value instead\n",
            "\n",
            "See the caveats in the documentation: https://pandas.pydata.org/pandas-docs/stable/user_guide/indexing.html#returning-a-view-versus-a-copy\n",
            "  X_test['personalidade'] = le_personalidade.inverse_transform(X_test['personalidade'])\n",
            "<ipython-input-39-13715a2dc9f4>:15: SettingWithCopyWarning: \n",
            "A value is trying to be set on a copy of a slice from a DataFrame.\n",
            "Try using .loc[row_indexer,col_indexer] = value instead\n",
            "\n",
            "See the caveats in the documentation: https://pandas.pydata.org/pandas-docs/stable/user_guide/indexing.html#returning-a-view-versus-a-copy\n",
            "  X_test['sanguineo'] = le_sanguineo.inverse_transform(X_test['sanguineo'])\n",
            "<ipython-input-39-13715a2dc9f4>:16: SettingWithCopyWarning: \n",
            "A value is trying to be set on a copy of a slice from a DataFrame.\n",
            "Try using .loc[row_indexer,col_indexer] = value instead\n",
            "\n",
            "See the caveats in the documentation: https://pandas.pydata.org/pandas-docs/stable/user_guide/indexing.html#returning-a-view-versus-a-copy\n",
            "  X_test['especies'] = le_especies.inverse_transform(X_test['especies'])\n",
            "<ipython-input-39-13715a2dc9f4>:17: SettingWithCopyWarning: \n",
            "A value is trying to be set on a copy of a slice from a DataFrame.\n",
            "Try using .loc[row_indexer,col_indexer] = value instead\n",
            "\n",
            "See the caveats in the documentation: https://pandas.pydata.org/pandas-docs/stable/user_guide/indexing.html#returning-a-view-versus-a-copy\n",
            "  X_test['cores_cabelo'] = le_cores_cabelo.inverse_transform(X_test['cores_cabelo'])\n",
            "<ipython-input-39-13715a2dc9f4>:18: SettingWithCopyWarning: \n",
            "A value is trying to be set on a copy of a slice from a DataFrame.\n",
            "Try using .loc[row_indexer,col_indexer] = value instead\n",
            "\n",
            "See the caveats in the documentation: https://pandas.pydata.org/pandas-docs/stable/user_guide/indexing.html#returning-a-view-versus-a-copy\n",
            "  X_test['cores_olhos'] = le_cores_olhos.inverse_transform(X_test['cores_olhos'])\n",
            "<ipython-input-39-13715a2dc9f4>:19: SettingWithCopyWarning: \n",
            "A value is trying to be set on a copy of a slice from a DataFrame.\n",
            "Try using .loc[row_indexer,col_indexer] = value instead\n",
            "\n",
            "See the caveats in the documentation: https://pandas.pydata.org/pandas-docs/stable/user_guide/indexing.html#returning-a-view-versus-a-copy\n",
            "  X_test['lealdades'] = le_lealdades.inverse_transform(X_test['lealdades'])\n"
          ]
        },
        {
          "output_type": "stream",
          "name": "stdout",
          "text": [
            "Classes Previstas: [2 2 0 ... 3 1 1]\n",
            "Classes Verdadeiras:\n",
            " 1945    2\n",
            "5301    2\n",
            "4694    0\n",
            "6116    1\n",
            "3033    2\n",
            "       ..\n",
            "8289    2\n",
            "2385    2\n",
            "719     3\n",
            "5720    1\n",
            "2608    1\n",
            "Name: casa, Length: 4320, dtype: int64\n",
            "Dados de treinamento:\n",
            "     habilidade interesse personalidade sanguineo   especies cores_cabelo  \\\n",
            "7933      baixa   estudos  extrovertido   mestiço   fantasma     castanho   \n",
            "4708      media  esportes  introvertido    trouxa    gigante        ruivo   \n",
            "4333      media  esportes  introvertido      puro     humano     castanho   \n",
            "3320      media     magia  extrovertido    trouxa  lobisomem        preto   \n",
            "5299      media   estudos  introvertido      puro     humano        loiro   \n",
            "...         ...       ...           ...       ...        ...          ...   \n",
            "5961      baixa     magia  extrovertido   mestiço    gigante        preto   \n",
            "1204       alta  esportes  extrovertido   mestiço   fantasma        preto   \n",
            "5402      media   estudos  introvertido      puro  lobisomem        preto   \n",
            "2325       alta   estudos  extrovertido    trouxa   fantasma        preto   \n",
            "3896      media  esportes  extrovertido      puro    gigante        loiro   \n",
            "\n",
            "     cores_olhos   lealdades  \n",
            "7933    castanho  Dumbledore  \n",
            "4708    castanho   Voldemort  \n",
            "4333    castanho  Dumbledore  \n",
            "3320        azul   Voldemort  \n",
            "5299       verde  Dumbledore  \n",
            "...          ...         ...  \n",
            "5961        azul  Dumbledore  \n",
            "1204    castanho   Voldemort  \n",
            "5402       verde   Voldemort  \n",
            "2325    castanho  Dumbledore  \n",
            "3896        azul   Voldemort  \n",
            "\n",
            "[4320 rows x 8 columns]\n",
            "['Lufa-Lufa' 'Grifinória' 'Lufa-Lufa' ... 'Corvinal' 'Lufa-Lufa'\n",
            " 'Grifinória']\n",
            "\n",
            "Dados de teste:\n",
            "     habilidade interesse personalidade sanguineo   especies cores_cabelo  \\\n",
            "1945       alta   estudos  extrovertido      puro     humano        ruivo   \n",
            "5301      media   estudos  introvertido      puro     humano        loiro   \n",
            "4694      media  esportes  introvertido    trouxa    gigante     castanho   \n",
            "6116      baixa     magia  extrovertido    trouxa     humano        cinza   \n",
            "3033      media     magia  extrovertido      puro  lobisomem        cinza   \n",
            "...         ...       ...           ...       ...        ...          ...   \n",
            "8289      baixa   estudos  introvertido      puro  lobisomem     castanho   \n",
            "2385       alta   estudos  extrovertido    trouxa  lobisomem        ruivo   \n",
            "719        alta     magia  introvertido   mestiço    gigante        cinza   \n",
            "5720      media   estudos  introvertido    trouxa  lobisomem        preto   \n",
            "2608       alta   estudos  introvertido   mestiço    gigante     castanho   \n",
            "\n",
            "     cores_olhos   lealdades  \n",
            "1945        azul  Dumbledore  \n",
            "5301    castanho  Dumbledore  \n",
            "4694       preto   Voldemort  \n",
            "6116    castanho   Voldemort  \n",
            "3033        azul  Dumbledore  \n",
            "...          ...         ...  \n",
            "8289        azul  Dumbledore  \n",
            "2385        azul  Dumbledore  \n",
            "719        preto  Dumbledore  \n",
            "5720        azul   Voldemort  \n",
            "2608        azul   Voldemort  \n",
            "\n",
            "[4320 rows x 8 columns]\n",
            "['Lufa-Lufa' 'Lufa-Lufa' 'Corvinal' ... 'Sonserina' 'Grifinória'\n",
            " 'Grifinória']\n"
          ]
        }
      ]
    },
    {
      "cell_type": "code",
      "source": [
        "from sklearn.tree import export_graphviz\n",
        "import graphviz\n",
        "\n",
        "# Exporte a árvore de decisão para o formato Graphviz\n",
        "#dot_data = export_graphviz(model_dt, out_file=None)\n",
        "\n",
        "# Converta os rótulos para strings\n",
        "y_str = y.astype(str)\n",
        "#X_str = X.astype(str)\n",
        "\n",
        "# Exportar a árvore de decisão para o formato Graphviz com mais opções para melhorar a visualização\n",
        "dot_data = export_graphviz(model_dt, out_file=None,\n",
        "                           feature_names=X.columns,  # Usar os nomes das colunas como nomes de recursos\n",
        "                           class_names=y_str.unique(),  # Usar os valores únicos da coluna y como nomes de classes\n",
        "                           filled=True,\n",
        "                           rounded=True,\n",
        "                           special_characters=True,\n",
        "                           proportion=True,  # Mostrar proporções nas folhas\n",
        "                           precision=5,  # Ajustar a precisão para números de ponto flutuante\n",
        "                           rotate=True,  # Girar nós dependentes de uma condição\n",
        "                           max_depth=7)  # Limitar a profundidade da árvore\n",
        "\n",
        "# Use o Graphviz para gerar um gráfico da árvore de decisão\n",
        "graph = graphviz.Source(dot_data)\n",
        "graph.render(\"tree\", format=\"png\", cleanup=True)  # Isso vai gerar um arquivo tree.png no mesmo diretório do script\n",
        "\n",
        "# Se você quiser visualizar a árvore diretamente no notebook, você pode usar o seguinte comando:\n",
        "#graph.view()"
      ],
      "metadata": {
        "colab": {
          "base_uri": "https://localhost:8080/",
          "height": 36
        },
        "id": "rAts0sjgJU9l",
        "outputId": "f81157ab-5116-44ba-fdb9-32e291a8c075"
      },
      "execution_count": 28,
      "outputs": [
        {
          "output_type": "execute_result",
          "data": {
            "text/plain": [
              "'tree.png'"
            ],
            "application/vnd.google.colaboratory.intrinsic+json": {
              "type": "string"
            }
          },
          "metadata": {},
          "execution_count": 28
        }
      ]
    },
    {
      "cell_type": "code",
      "source": [
        "print(df.info())"
      ],
      "metadata": {
        "colab": {
          "base_uri": "https://localhost:8080/"
        },
        "id": "XkVihpGVKt2l",
        "outputId": "7aab7738-65a0-46d1-8b83-bc61013f99b7"
      },
      "execution_count": 29,
      "outputs": [
        {
          "output_type": "stream",
          "name": "stdout",
          "text": [
            "<class 'pandas.core.frame.DataFrame'>\n",
            "RangeIndex: 8640 entries, 0 to 8639\n",
            "Data columns (total 9 columns):\n",
            " #   Column         Non-Null Count  Dtype\n",
            "---  ------         --------------  -----\n",
            " 0   habilidade     8640 non-null   int64\n",
            " 1   interesse      8640 non-null   int64\n",
            " 2   personalidade  8640 non-null   int64\n",
            " 3   sanguineo      8640 non-null   int64\n",
            " 4   especies       8640 non-null   int64\n",
            " 5   cores_cabelo   8640 non-null   int64\n",
            " 6   cores_olhos    8640 non-null   int64\n",
            " 7   lealdades      8640 non-null   int64\n",
            " 8   casa           8640 non-null   int64\n",
            "dtypes: int64(9)\n",
            "memory usage: 607.6 KB\n",
            "None\n"
          ]
        }
      ]
    },
    {
      "cell_type": "code",
      "source": [
        "import numpy as np\n",
        "\n",
        "# Verificar classes únicas em y_test e y_pred\n",
        "print(\"Classes únicas em y_test:\", np.unique(y_test))\n",
        "print(\"Classes únicas em y_pred:\", np.unique(y_pred))\n"
      ],
      "metadata": {
        "colab": {
          "base_uri": "https://localhost:8080/"
        },
        "id": "6Wx9Kal6KvYz",
        "outputId": "6fc74a4a-4998-467d-a1de-3d1e945d758f"
      },
      "execution_count": 30,
      "outputs": [
        {
          "output_type": "stream",
          "name": "stdout",
          "text": [
            "Classes únicas em y_test: ['Corvinal' 'Grifinória' 'Lufa-Lufa' 'Sonserina']\n",
            "Classes únicas em y_pred: [0 1 2 3]\n"
          ]
        }
      ]
    },
    {
      "cell_type": "code",
      "source": [
        "from sklearn.metrics import confusion_matrix\n",
        "import seaborn as sns\n",
        "import matplotlib.pyplot as plt\n",
        "from sklearn import metrics\n",
        "\n",
        "# Mapeando os valores preditos de volta para os rótulos das classes\n",
        "class_labels = ['Corvinal', 'Grifinória', 'Lufa-Lufa', 'Sonserina']\n",
        "y_pred_labels = [class_labels[i] for i in y_pred]\n",
        "\n",
        "# Criando a matriz de confusão\n",
        "conf_matrix = confusion_matrix(y_test, y_pred_labels)\n",
        "\n",
        "# Plotando a matriz de confusão\n",
        "plt.figure(figsize=(8, 6))\n",
        "sns.heatmap(conf_matrix, annot=True, fmt=\"d\", cmap=\"Blues\", xticklabels=class_labels, yticklabels=class_labels)\n",
        "plt.title(\"Matriz de Confusão\")\n",
        "plt.xlabel(\"Predito\")\n",
        "plt.ylabel(\"Real\")\n",
        "plt.show()\n",
        "\n",
        "# Imprimindo relatórios de classificação\n",
        "print(metrics.classification_report(y_test, y_pred_labels, target_names=class_labels))\n"
      ],
      "metadata": {
        "colab": {
          "base_uri": "https://localhost:8080/",
          "height": 767
        },
        "id": "bnYmYBblII2M",
        "outputId": "10b59b9d-eef4-44ff-b9ae-cf7352bc690b"
      },
      "execution_count": 31,
      "outputs": [
        {
          "output_type": "display_data",
          "data": {
            "text/plain": [
              "<Figure size 800x600 with 2 Axes>"
            ],
            "image/png": "[encoded data removed]"
          },
          "metadata": {}
        },
        {
          "output_type": "stream",
          "name": "stdout",
          "text": [
            "              precision    recall  f1-score   support\n",
            "\n",
            "    Corvinal       1.00      1.00      1.00      1080\n",
            "  Grifinória       1.00      1.00      1.00      1080\n",
            "   Lufa-Lufa       1.00      1.00      1.00      1080\n",
            "   Sonserina       1.00      1.00      1.00      1080\n",
            "\n",
            "    accuracy                           1.00      4320\n",
            "   macro avg       1.00      1.00      1.00      4320\n",
            "weighted avg       1.00      1.00      1.00      4320\n",
            "\n"
          ]
        }
      ]
    },
    {
      "cell_type": "code",
      "source": [
        "# Obtenha as probabilidades para um novo aluno\n",
        "novo_aluno = np.array([\n",
        "    le_habilidade.transform(['alta'])[0],\n",
        "    le_interesse.transform(['esportes'])[0],\n",
        "    le_personalidade.transform(['extrovertido'])[0],\n",
        "    le_sanguineo.transform(['mestiço'])[0],\n",
        "    le_especies.transform(['humano'])[0],\n",
        "    le_cores_cabelo.transform(['loiro'])[0],\n",
        "    le_cores_olhos.transform(['preto'])[0],\n",
        "    le_lealdades.transform(['Dumbledore'])[0]\n",
        "]).reshape(1, -1)\n",
        "\n",
        "\n",
        "\n",
        "casa_prevista = le_casa.inverse_transform(model_dt.predict(novo_aluno))\n",
        "print(casa_prevista)\n",
        "\n",
        "casa_prevista = le_casa.inverse_transform(model_dt.predict(novo_aluno))\n",
        "print(casa_prevista)\n",
        "\n",
        "\n",
        "probabilidades = model_dt.predict_proba(novo_aluno)\n",
        "\n",
        "# Imprima as probabilidades para cada casa\n",
        "for casa, probabilidade in zip(le_casa.classes_, probabilidades[0]):\n",
        "    print(f\"A probabilidade do novo aluno pertencer à casa {casa} é {probabilidade}\")"
      ],
      "metadata": {
        "id": "k0w8Gt7Slhm7",
        "colab": {
          "base_uri": "https://localhost:8080/"
        },
        "outputId": "ee161aa6-49ce-4fb5-f165-43e71ae7430e"
      },
      "execution_count": 34,
      "outputs": [
        {
          "output_type": "stream",
          "name": "stdout",
          "text": [
            "['Sonserina']\n",
            "['Sonserina']\n",
            "A probabilidade do novo aluno pertencer à casa Corvinal é 0.0\n",
            "A probabilidade do novo aluno pertencer à casa Grifinória é 0.0\n",
            "A probabilidade do novo aluno pertencer à casa Lufa-Lufa é 0.0\n",
            "A probabilidade do novo aluno pertencer à casa Sonserina é 1.0\n"
          ]
        },
        {
          "output_type": "stream",
          "name": "stderr",
          "text": [
            "/usr/local/lib/python3.10/dist-packages/sklearn/base.py:439: UserWarning: X does not have valid feature names, but DecisionTreeClassifier was fitted with feature names\n",
            "  warnings.warn(\n",
            "/usr/local/lib/python3.10/dist-packages/sklearn/base.py:439: UserWarning: X does not have valid feature names, but DecisionTreeClassifier was fitted with feature names\n",
            "  warnings.warn(\n",
            "/usr/local/lib/python3.10/dist-packages/sklearn/base.py:439: UserWarning: X does not have valid feature names, but DecisionTreeClassifier was fitted with feature names\n",
            "  warnings.warn(\n"
          ]
        }
      ]
    },
    {
      "cell_type": "code",
      "source": [
        "# Obtenha a importância das características\n",
        "importances = model_dt.feature_importances_\n",
        "\n",
        "# Crie um DataFrame para exibir as importâncias\n",
        "df = pd.DataFrame({\n",
        "    'Característica': ['habilidade', 'interesse', 'personalidade','sanguineo', 'especies', 'cores_cabelo', 'cores_olhos', 'lealdades'],\n",
        "    'Importância': importances\n",
        "})\n",
        "\n",
        "# Ordene o DataFrame por importância\n",
        "df = df.sort_values(by='Importância', ascending=False)\n",
        "\n",
        "# Imprima o DataFrame\n",
        "print(df)"
      ],
      "metadata": {
        "id": "Mi2BOymrMoGq",
        "colab": {
          "base_uri": "https://localhost:8080/"
        },
        "outputId": "287fe823-c8f0-4940-b0fb-5ddcc36ae23b"
      },
      "execution_count": 10,
      "outputs": [
        {
          "output_type": "stream",
          "name": "stdout",
          "text": [
            "  Característica  Importância\n",
            "6    cores_olhos     0.666667\n",
            "7      lealdades     0.333333\n",
            "0     habilidade     0.000000\n",
            "1      interesse     0.000000\n",
            "2  personalidade     0.000000\n",
            "3      sanguineo     0.000000\n",
            "4       especies     0.000000\n",
            "5   cores_cabelo     0.000000\n"
          ]
        }
      ]
    },
    {
      "cell_type": "markdown",
      "source": [
        "# Random Forest\n"
      ],
      "metadata": {
        "id": "VM5ErHOhs4FW"
      }
    },
    {
      "cell_type": "code",
      "source": [
        "from sklearn.ensemble import RandomForestClassifier\n",
        "from sklearn.metrics import accuracy_score, classification_report\n",
        "from sklearn.model_selection import train_test_split\n",
        "import pandas as pd\n",
        "\n",
        "# Suponha que você já tenha seus conjuntos de treinamento e teste: X_train, X_test, y_train, y_test\n",
        "\n",
        "X = df_copia[['habilidade', 'interesse', 'personalidade', 'sanguineo', 'especies', 'cores_cabelo', 'cores_olhos', 'lealdades']]\n",
        "y = df_copia['casa']\n",
        "\n",
        "# Converta variáveis categóricas para variáveis dummy\n",
        "X = pd.get_dummies(X)\n",
        "\n",
        "#X_train, X_test, y_train, y_test = train_test_split(X, y, test_size=0.3, stratify=y, random_state=42)\n",
        "X_train, X_test, y_train, y_test = train_test_split(X, y, test_size=0.3)\n",
        "\n",
        "# Criar e treinar o modelo de Random Forest\n",
        "model_rf = RandomForestClassifier(random_state=42)\n",
        "model_rf.fit(X_train, y_train)\n",
        "\n",
        "# Exibir a importância das características\n",
        "feature_importance = model_rf.feature_importances_\n",
        "\n",
        "# Normalizar as importâncias das características\n",
        "feature_importance_normalized = feature_importance / feature_importance.sum()\n",
        "\n",
        "# Exibir as importâncias normalizadas das características\n",
        "print('Importância das Características Normalizadas:')\n",
        "for feature, importance in sorted(zip(X_train.columns, feature_importance_normalized), key=lambda x: x[1], reverse=True):\n",
        "    print(f'{feature}: {importance}')\n",
        "\n",
        "# Fazer previsões no conjunto de teste\n",
        "y_pred_rf = model_rf.predict(X_test)\n",
        "\n",
        "# Avaliar o desempenho do modelo\n",
        "accuracy_rf = accuracy_score(y_test, y_pred_rf)\n",
        "print(f'------------------------------- Acurácia: {accuracy_rf} \\n')\n",
        "\n",
        "# Exibir o relatório de classificação\n",
        "print('------------Relatório de Classificação:------------------- \\n')\n",
        "print(classification_report(y_test, y_pred_rf))\n"
      ],
      "metadata": {
        "id": "YaXCPedJmmGm",
        "colab": {
          "base_uri": "https://localhost:8080/"
        },
        "outputId": "e5cec874-852b-4b90-d01c-57636d77b387"
      },
      "execution_count": 11,
      "outputs": [
        {
          "output_type": "stream",
          "name": "stdout",
          "text": [
            "Importância das Características Normalizadas:\n",
            "lealdades_Dumbledore: 0.22720780109107555\n",
            "lealdades_Voldemort: 0.2151725444024564\n",
            "cores_olhos_verde: 0.14990614611374595\n",
            "cores_olhos_preto: 0.1469167607273637\n",
            "cores_olhos_castanho: 0.12413095762878028\n",
            "cores_olhos_azul: 0.11967082602158279\n",
            "habilidade_alta: 0.0009608346268982943\n",
            "sanguineo_trouxa: 0.0009529751575635805\n",
            "sanguineo_puro: 0.0009473148021152108\n",
            "interesse_magia: 0.000935391118016333\n",
            "sanguineo_mestiço: 0.0008928868709798897\n",
            "personalidade_extrovertido: 0.0008708719654562813\n",
            "interesse_esportes: 0.0008623785195961868\n",
            "habilidade_baixa: 0.0008609815787312082\n",
            "personalidade_introvertido: 0.0008589590484037224\n",
            "especies_gigante: 0.0008494076540789062\n",
            "especies_fantasma: 0.0008453041345954387\n",
            "especies_humano: 0.0008445392638231143\n",
            "cores_cabelo_preto: 0.0008327933920980938\n",
            "habilidade_media: 0.000823413145718995\n",
            "cores_cabelo_castanho: 0.0008181765478716632\n",
            "cores_cabelo_cinza: 0.0008077604182186012\n",
            "interesse_estudos: 0.0007938928913403995\n",
            "especies_lobisomem: 0.0007543008852146355\n",
            "cores_cabelo_loiro: 0.0007491916483693045\n",
            "cores_cabelo_ruivo: 0.0007335903459054761\n",
            "------------------------------- Acurácia: 1.0 \n",
            "\n",
            "------------Relatório de Classificação:------------------- \n",
            "\n",
            "              precision    recall  f1-score   support\n",
            "\n",
            "    Corvinal       1.00      1.00      1.00       659\n",
            "  Grifinória       1.00      1.00      1.00       647\n",
            "   Lufa-Lufa       1.00      1.00      1.00       634\n",
            "   Sonserina       1.00      1.00      1.00       652\n",
            "\n",
            "    accuracy                           1.00      2592\n",
            "   macro avg       1.00      1.00      1.00      2592\n",
            "weighted avg       1.00      1.00      1.00      2592\n",
            "\n"
          ]
        }
      ]
    },
    {
      "cell_type": "code",
      "source": [
        "# Exibir a importância das características\n",
        "feature_importance = model_rf.feature_importances_\n",
        "\n",
        "# Mapear as importâncias das características para os nomes das características\n",
        "feature_importance_dict = dict(zip(X_train.columns, feature_importance))\n",
        "\n",
        "# Exibir as importâncias das características\n",
        "print('Importância das Características:')\n",
        "for feature, importance in sorted(feature_importance_dict.items(), key=lambda x: x[1], reverse=True):\n",
        "    print(f'{feature}: {importance}')\n"
      ],
      "metadata": {
        "colab": {
          "base_uri": "https://localhost:8080/"
        },
        "id": "fhMgCErtSje7",
        "outputId": "1c4f5a63-257f-4c2d-f9f0-ed3b329bba71"
      },
      "execution_count": 12,
      "outputs": [
        {
          "output_type": "stream",
          "name": "stdout",
          "text": [
            "Importância das Características:\n",
            "lealdades_Dumbledore: 0.22720780109107555\n",
            "lealdades_Voldemort: 0.2151725444024564\n",
            "cores_olhos_verde: 0.14990614611374595\n",
            "cores_olhos_preto: 0.1469167607273637\n",
            "cores_olhos_castanho: 0.12413095762878028\n",
            "cores_olhos_azul: 0.11967082602158279\n",
            "habilidade_alta: 0.0009608346268982943\n",
            "sanguineo_trouxa: 0.0009529751575635805\n",
            "sanguineo_puro: 0.0009473148021152108\n",
            "interesse_magia: 0.000935391118016333\n",
            "sanguineo_mestiço: 0.0008928868709798897\n",
            "personalidade_extrovertido: 0.0008708719654562813\n",
            "interesse_esportes: 0.0008623785195961868\n",
            "habilidade_baixa: 0.0008609815787312082\n",
            "personalidade_introvertido: 0.0008589590484037224\n",
            "especies_gigante: 0.0008494076540789062\n",
            "especies_fantasma: 0.0008453041345954387\n",
            "especies_humano: 0.0008445392638231143\n",
            "cores_cabelo_preto: 0.0008327933920980938\n",
            "habilidade_media: 0.000823413145718995\n",
            "cores_cabelo_castanho: 0.0008181765478716632\n",
            "cores_cabelo_cinza: 0.0008077604182186012\n",
            "interesse_estudos: 0.0007938928913403995\n",
            "especies_lobisomem: 0.0007543008852146355\n",
            "cores_cabelo_loiro: 0.0007491916483693045\n",
            "cores_cabelo_ruivo: 0.0007335903459054761\n"
          ]
        }
      ]
    },
    {
      "cell_type": "code",
      "source": [
        "import matplotlib.pyplot as plt\n",
        "\n",
        "\n",
        "# Criar uma representação visual da importância das características\n",
        "plt.figure(figsize=(10, 6))\n",
        "features, importance = zip(*sorted(feature_importance_dict.items(), key=lambda x: x[1], reverse=True))\n",
        "plt.bar(features, importance)\n",
        "plt.xlabel('Características')\n",
        "plt.ylabel('Importância')\n",
        "plt.title('Importância das Características no Modelo')\n",
        "plt.xticks(rotation=45, ha='right')\n",
        "plt.show()"
      ],
      "metadata": {
        "colab": {
          "base_uri": "https://localhost:8080/",
          "height": 696
        },
        "id": "JxkvZlGrS5NI",
        "outputId": "402c7726-08ee-42f7-ff02-946fe34eb3d5"
      },
      "execution_count": 13,
      "outputs": [
        {
          "output_type": "display_data",
          "data": {
            "text/plain": [
              "<Figure size 1000x600 with 1 Axes>"
            ],
            "image/png": "[encoded data removed]"
          },
          "metadata": {}
        }
      ]
    }
  ]
}