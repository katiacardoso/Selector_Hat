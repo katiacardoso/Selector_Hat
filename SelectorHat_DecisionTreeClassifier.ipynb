{
  "nbformat": 4,
  "nbformat_minor": 0,
  "metadata": {
    "colab": {
      "provenance": [],
      "authorship_tag": "ABX9TyOL05k21NqS4RQ7LR0xqfK0",
      "include_colab_link": true
    },
    "kernelspec": {
      "name": "python3",
      "display_name": "Python 3"
    },
    "language_info": {
      "name": "python"
    }
  },
  "cells": [
    {
      "cell_type": "markdown",
      "metadata": {
        "id": "view-in-github",
        "colab_type": "text"
      },
      "source": [
        "<a href=\"https://colab.research.google.com/github/katiacardoso/Selector_Hat/blob/2410/SelectorHat_DecisionTreeClassifier.ipynb\" target=\"_parent\"><img src=\"https://colab.research.google.com/assets/colab-badge.svg\" alt=\"Open In Colab\"/></a>"
      ]
    },
    {
      "cell_type": "code",
      "execution_count": null,
      "metadata": {
        "id": "TPwGz9tBQXHE"
      },
      "outputs": [],
      "source": [
        "import requests\n",
        "from io import StringIO\n",
        "import pandas as pd\n",
        "from sklearn.feature_extraction.text import CountVectorizer\n",
        "from sklearn.naive_bayes import MultinomialNB\n",
        "from sklearn.tree import DecisionTreeClassifier\n",
        "from sklearn.pipeline import Pipeline\n",
        "from sklearn.metrics import classification_report\n",
        "from sklearn.model_selection import train_test_split\n",
        "\n",
        "#importação dos dados\n",
        "url = 'https://raw.githubusercontent.com/katiacardoso/Selector_Hat/main/dataset.csv'\n",
        "\n",
        "# Baixar o conteúdo do arquivo usando requests\n",
        "response = requests.get(url)\n",
        "\n",
        "# Verificar se a requisição foi bem-sucedida\n",
        "if response.status_code == 200:\n",
        "    # Criar um objeto pandas DataFrame a partir do conteúdo baixado\n",
        "    data = pd.read_csv(StringIO(response.text), usecols=['Name', 'House'], delimiter=';')\n",
        "    # Agora você pode usar o DataFrame 'data' normalmente\n",
        "else:\n",
        "    print(\"Falha ao baixar o arquivo. Código de status:\", response.status_code)\n",
        "\n",
        "\n",
        "data.to_csv('dataset_add.csv', index=False)"
      ]
    },
    {
      "cell_type": "markdown",
      "source": [
        "## Validação do pré processamento dos nomes"
      ],
      "metadata": {
        "id": "iFQQH1qrXQ5f"
      }
    },
    {
      "cell_type": "code",
      "source": [
        "# Pré-processamento dos nomes usando CountVectorizer\n",
        "vectorizer = CountVectorizer(analyzer='char', ngram_range=(2, 3))  # Convertendo nomes em vetores de caracteres (bigramas e trigramas)\n",
        "name_vectors = vectorizer.fit_transform(data['Name'])\n",
        "\n",
        "# Visualize as características (tokens) e suas representações numéricas\n",
        "features = vectorizer.get_feature_names_out()\n",
        "print(\"Características (tokens):\", features)\n",
        "print(\"Representações numéricas dos nomes:\")\n",
        "for idx, name in enumerate(data['Name']):\n",
        "    print(f\"{name}: {name_vectors[idx].toarray()}\")"
      ],
      "metadata": {
        "id": "1Hnj_xDxXQZI"
      },
      "execution_count": null,
      "outputs": []
    },
    {
      "cell_type": "markdown",
      "source": [
        "## Validação dos dados de treinamento e dados de treino"
      ],
      "metadata": {
        "id": "9UyU-z67X-o7"
      }
    },
    {
      "cell_type": "code",
      "source": [
        "# Divida os dados em conjuntos de treino e teste (por exemplo, 80% para treino, 20% para teste)\n",
        "X_train, X_test, y_train, y_test = train_test_split(data['Name'], data['House'], test_size=0.2, random_state=42)\n",
        "\n",
        "# Verifique o tamanho dos conjuntos de treino e teste\n",
        "print(\"Tamanho do conjunto de treino:\", len(X_train))\n",
        "print(\"Tamanho do conjunto de teste:\", len(X_test))\n",
        "\n",
        "# Verifique algumas amostras dos conjuntos de treino e teste\n",
        "print(\"Amostras do conjunto de treino:\")\n",
        "print(X_train.head())\n",
        "print(y_train.head())\n",
        "\n",
        "print(\"\\nAmostras do conjunto de teste:\")\n",
        "print(X_test.head())\n",
        "print(y_test.head())"
      ],
      "metadata": {
        "colab": {
          "base_uri": "https://localhost:8080/"
        },
        "id": "9gD_qwKHYDJI",
        "outputId": "d0a6ffe6-9687-4bf5-8292-ed77ee2a9692"
      },
      "execution_count": null,
      "outputs": [
        {
          "output_type": "stream",
          "name": "stdout",
          "text": [
            "Tamanho do conjunto de treino: 77\n",
            "Tamanho do conjunto de teste: 20\n",
            "Amostras do conjunto de treino:\n",
            "49                         Bellatrix Lestrange\n",
            "70                Nicholas de Mimsy-Porpington\n",
            "68                           Godric Gryffindor\n",
            "15                             Peter Pettigrew\n",
            "39    Myrtle Elizabeth Warren (Moaning Myrtle)\n",
            "Name: Name, dtype: object\n",
            "49     Slytherin\n",
            "70    Gryffindor\n",
            "68    Gryffindor\n",
            "15    Gryffindor\n",
            "39     Ravenclaw\n",
            "Name: House, dtype: object\n",
            "\n",
            "Amostras do conjunto de teste:\n",
            "62                Bloody Baron\n",
            "40                 Padma Patil\n",
            "93    Scorpius Hyperion Malfoy\n",
            "18             Charles Weasley\n",
            "81             Zacharias Smith\n",
            "Name: Name, dtype: object\n",
            "62     Slytherin\n",
            "40     Ravenclaw\n",
            "93     Slytherin\n",
            "18    Gryffindor\n",
            "81    Hufflepuff\n",
            "Name: House, dtype: object\n"
          ]
        }
      ]
    },
    {
      "cell_type": "code",
      "source": [
        "# Criando um pipeline com CountVectorizer e MultinomialNB (classificador Naive Bayes)\n",
        "pipeline = Pipeline([\n",
        "    ('vectorizer', CountVectorizer(analyzer='char', ngram_range=(2, 3))),  # Convertendo nomes em vetores de caracteres\n",
        "    ('classifier', MultinomialNB())  # Usando o classificador Naive Bayes\n",
        "])\n",
        "\n",
        "# Separando dados em conjunto de treino e teste\n",
        "X_train, X_test, y_train, y_test = train_test_split(data['Name'], data['House'], test_size=0.2, random_state=42)\n",
        "\n",
        "# Treinando o modelo\n",
        "pipeline.fit(X_train, y_train)\n",
        "\n",
        "# Fazendo previsões\n",
        "user_input = input(\"Digite o nome do usuário: \")\n",
        "predicted_house = pipeline.predict([user_input])[0]\n",
        "print(f'O usuário pertence à casa: {predicted_house}')\n",
        "\n",
        "# Relatório de classificação\n",
        "y_pred = pipeline.predict(X_test)\n",
        "print(\"Relatório de Classificação:\\n\", classification_report(y_test, y_pred))\n",
        "\n",
        "# Relatório em relação aos dados de treino\n",
        "y_pred_train = pipeline.predict(X_train)\n",
        "print(\"Relatório de Classificação (dados de treino):\\n\", classification_report(y_train, y_pred_train))\n"
      ],
      "metadata": {
        "colab": {
          "base_uri": "https://localhost:8080/"
        },
        "id": "xfsz4aNCQd4V",
        "outputId": "a467851f-06de-42f2-d656-1cb881ddb902"
      },
      "execution_count": null,
      "outputs": [
        {
          "output_type": "stream",
          "name": "stdout",
          "text": [
            "Digite o nome do usuário: Hermione\n",
            "O usuário pertence à casa: Gryffindor\n",
            "Relatório de Classificação:\n",
            "               precision    recall  f1-score   support\n",
            "\n",
            "  Gryffindor       0.67      0.67      0.67         9\n",
            "  Hufflepuff       0.00      0.00      0.00         3\n",
            "   Ravenclaw       0.25      0.20      0.22         5\n",
            "   Slytherin       0.43      1.00      0.60         3\n",
            "\n",
            "    accuracy                           0.50        20\n",
            "   macro avg       0.34      0.47      0.37        20\n",
            "weighted avg       0.43      0.50      0.45        20\n",
            "\n",
            "Relatório de Classificação (dados de treino):\n",
            "               precision    recall  f1-score   support\n",
            "\n",
            "  Gryffindor       1.00      1.00      1.00        29\n",
            "  Hufflepuff       1.00      1.00      1.00        10\n",
            "   Ravenclaw       1.00      0.92      0.96        13\n",
            "   Slytherin       0.96      1.00      0.98        25\n",
            "\n",
            "    accuracy                           0.99        77\n",
            "   macro avg       0.99      0.98      0.99        77\n",
            "weighted avg       0.99      0.99      0.99        77\n",
            "\n"
          ]
        },
        {
          "output_type": "stream",
          "name": "stderr",
          "text": [
            "/usr/local/lib/python3.10/dist-packages/sklearn/metrics/_classification.py:1344: UndefinedMetricWarning: Precision and F-score are ill-defined and being set to 0.0 in labels with no predicted samples. Use `zero_division` parameter to control this behavior.\n",
            "  _warn_prf(average, modifier, msg_start, len(result))\n",
            "/usr/local/lib/python3.10/dist-packages/sklearn/metrics/_classification.py:1344: UndefinedMetricWarning: Precision and F-score are ill-defined and being set to 0.0 in labels with no predicted samples. Use `zero_division` parameter to control this behavior.\n",
            "  _warn_prf(average, modifier, msg_start, len(result))\n",
            "/usr/local/lib/python3.10/dist-packages/sklearn/metrics/_classification.py:1344: UndefinedMetricWarning: Precision and F-score are ill-defined and being set to 0.0 in labels with no predicted samples. Use `zero_division` parameter to control this behavior.\n",
            "  _warn_prf(average, modifier, msg_start, len(result))\n"
          ]
        }
      ]
    },
    {
      "cell_type": "markdown",
      "source": [
        "# Arvore de Decisão\n",
        "\n",
        "- Até o momento foi o qu deu mais certo, mas está designando para apenas uma casa, então farei algumas validações\n"
      ],
      "metadata": {
        "id": "s4mvABpjVDil"
      }
    },
    {
      "cell_type": "markdown",
      "source": [
        "## Visualização dos dados\n"
      ],
      "metadata": {
        "id": "EGjnYRkuVXwL"
      }
    },
    {
      "cell_type": "code",
      "source": [
        "import matplotlib.pyplot as plt\n",
        "\n",
        "# Contar o número de amostras em cada classe\n",
        "class_count = data['House'].value_counts()\n",
        "\n",
        "# Exibir a contagem de amostras em cada classe\n",
        "print(\"Contagem de Amostras por Classe:\")\n",
        "print(class_count)"
      ],
      "metadata": {
        "colab": {
          "base_uri": "https://localhost:8080/"
        },
        "id": "3EISxcTaVC5r",
        "outputId": "d22f646d-55d1-4848-a150-b951a4cfca7f"
      },
      "execution_count": null,
      "outputs": [
        {
          "output_type": "stream",
          "name": "stdout",
          "text": [
            "Contagem de Amostras por Classe:\n",
            "Gryffindor    38\n",
            "Slytherin     28\n",
            "Ravenclaw     18\n",
            "Hufflepuff    13\n",
            "Name: House, dtype: int64\n"
          ]
        }
      ]
    },
    {
      "cell_type": "markdown",
      "source": [
        "## Visualizar rotulação"
      ],
      "metadata": {
        "id": "phleunm3Vrst"
      }
    },
    {
      "cell_type": "code",
      "source": [
        "# Liste as casas únicas no conjunto de dados\n",
        "unique_houses = data['House'].unique()\n",
        "print(\"Casas de Hogwarts no Conjunto de Dados:\")\n",
        "for house in unique_houses:\n",
        "    print(house)"
      ],
      "metadata": {
        "colab": {
          "base_uri": "https://localhost:8080/"
        },
        "id": "w-hN8J5VVwNg",
        "outputId": "d5628433-bcee-40ac-de51-d256a1f85b99"
      },
      "execution_count": null,
      "outputs": [
        {
          "output_type": "stream",
          "name": "stdout",
          "text": [
            "Casas de Hogwarts no Conjunto de Dados:\n",
            "Gryffindor\n",
            "Ravenclaw\n",
            "Slytherin\n",
            "Hufflepuff\n"
          ]
        }
      ]
    },
    {
      "cell_type": "markdown",
      "source": [
        "# Modelo bem básico"
      ],
      "metadata": {
        "id": "3WRRHXPanM8-"
      }
    },
    {
      "cell_type": "code",
      "source": [
        "# Criando um pipeline com CountVectorizer e DecisionTreeClassifier (árvore de decisão)\n",
        "pipeline = Pipeline([\n",
        "    ('vectorizer', CountVectorizer(analyzer='char', ngram_range=(2, 3))),  # Convertendo nomes em vetores de caracteres\n",
        "    ('classifier', DecisionTreeClassifier(max_depth=5, min_samples_leaf=1, min_samples_split=2, ccp_alpha=0.01, random_state=42))  # Usando árvore de decisão com ajuste de hiperparâmetros e regularização\n",
        "])\n",
        "\n",
        "# Separando dados em conjunto de treino e teste\n",
        "X_train, X_test, y_train, y_test = train_test_split(data['Name'], data['House'], test_size=0.2, random_state=42)\n",
        "\n",
        "# Treinando o modelo\n",
        "pipeline.fit(X_train, y_train)\n",
        "\n",
        "# Fazendo previsões\n",
        "user_input = input(\"Digite o nome do usuário: \")\n",
        "predicted_house = pipeline.predict([user_input])[0]\n",
        "print(f'O usuário pertence à casa: {predicted_house}')\n",
        "\n",
        "# Avaliação do modelo\n",
        "accuracy = pipeline.score(X_test, y_test)\n",
        "print(f'Acurácia do modelo: {accuracy:.2f}')\n",
        "\n",
        "# Relatório de classificação\n",
        "y_pred = pipeline.predict(X_test)\n",
        "print(\"Relatório de Classificação:\\n\", classification_report(y_test, y_pred))\n",
        "\n",
        "# Relatório em relação aos dados de treino\n",
        "y_pred_train = pipeline.predict(X_train)\n",
        "print(\"Relatório de Classificação (dados de treino):\\n\", classification_report(y_train, y_pred_train))"
      ],
      "metadata": {
        "colab": {
          "base_uri": "https://localhost:8080/"
        },
        "id": "pxSNogJjR3bs",
        "outputId": "b3eb2cc7-460d-4980-8515-4d905fef8924"
      },
      "execution_count": null,
      "outputs": [
        {
          "output_type": "stream",
          "name": "stdout",
          "text": [
            "Digite o nome do usuário: Katia \n",
            "O usuário pertence à casa: Gryffindor\n",
            "Acurácia do modelo: 0.55\n",
            "Relatório de Classificação:\n",
            "               precision    recall  f1-score   support\n",
            "\n",
            "  Gryffindor       0.64      0.78      0.70         9\n",
            "  Hufflepuff       0.00      0.00      0.00         3\n",
            "   Ravenclaw       0.50      0.40      0.44         5\n",
            "   Slytherin       0.40      0.67      0.50         3\n",
            "\n",
            "    accuracy                           0.55        20\n",
            "   macro avg       0.38      0.46      0.41        20\n",
            "weighted avg       0.47      0.55      0.50        20\n",
            "\n",
            "Relatório de Classificação (dados de treino):\n",
            "               precision    recall  f1-score   support\n",
            "\n",
            "  Gryffindor       0.49      1.00      0.66        29\n",
            "  Hufflepuff       0.00      0.00      0.00        10\n",
            "   Ravenclaw       1.00      0.38      0.56        13\n",
            "   Slytherin       1.00      0.52      0.68        25\n",
            "\n",
            "    accuracy                           0.61        77\n",
            "   macro avg       0.62      0.48      0.47        77\n",
            "weighted avg       0.68      0.61      0.56        77\n",
            "\n"
          ]
        },
        {
          "output_type": "stream",
          "name": "stderr",
          "text": [
            "/usr/local/lib/python3.10/dist-packages/sklearn/metrics/_classification.py:1344: UndefinedMetricWarning: Precision and F-score are ill-defined and being set to 0.0 in labels with no predicted samples. Use `zero_division` parameter to control this behavior.\n",
            "  _warn_prf(average, modifier, msg_start, len(result))\n",
            "/usr/local/lib/python3.10/dist-packages/sklearn/metrics/_classification.py:1344: UndefinedMetricWarning: Precision and F-score are ill-defined and being set to 0.0 in labels with no predicted samples. Use `zero_division` parameter to control this behavior.\n",
            "  _warn_prf(average, modifier, msg_start, len(result))\n",
            "/usr/local/lib/python3.10/dist-packages/sklearn/metrics/_classification.py:1344: UndefinedMetricWarning: Precision and F-score are ill-defined and being set to 0.0 in labels with no predicted samples. Use `zero_division` parameter to control this behavior.\n",
            "  _warn_prf(average, modifier, msg_start, len(result))\n",
            "/usr/local/lib/python3.10/dist-packages/sklearn/metrics/_classification.py:1344: UndefinedMetricWarning: Precision and F-score are ill-defined and being set to 0.0 in labels with no predicted samples. Use `zero_division` parameter to control this behavior.\n",
            "  _warn_prf(average, modifier, msg_start, len(result))\n",
            "/usr/local/lib/python3.10/dist-packages/sklearn/metrics/_classification.py:1344: UndefinedMetricWarning: Precision and F-score are ill-defined and being set to 0.0 in labels with no predicted samples. Use `zero_division` parameter to control this behavior.\n",
            "  _warn_prf(average, modifier, msg_start, len(result))\n",
            "/usr/local/lib/python3.10/dist-packages/sklearn/metrics/_classification.py:1344: UndefinedMetricWarning: Precision and F-score are ill-defined and being set to 0.0 in labels with no predicted samples. Use `zero_division` parameter to control this behavior.\n",
            "  _warn_prf(average, modifier, msg_start, len(result))\n"
          ]
        }
      ]
    },
    {
      "cell_type": "markdown",
      "source": [
        "# Modelo incrementado com balanceamento das classes utilizando SMOTE"
      ],
      "metadata": {
        "id": "W5qfqA_onWcz"
      }
    },
    {
      "cell_type": "code",
      "source": [
        "from imblearn.over_sampling import SMOTE\n",
        "from imblearn.under_sampling import NearMiss\n",
        "from sklearn.preprocessing import OneHotEncoder\n",
        "\n",
        "# Dividir os dados em características (X) e rótulos (y)\n",
        "X = data['Name']\n",
        "y = data['House']\n",
        "\n",
        "# Criar um codificador one-hot\n",
        "encoder = OneHotEncoder(sparse_output=False, handle_unknown='ignore')\n",
        "\n",
        "# Aplicar codificação one-hot aos dados de treinamento\n",
        "X_encoded = encoder.fit_transform(X.values.reshape(-1, 1))\n",
        "\n",
        "# Aplicar SMOTE para oversampling\n",
        "smote = SMOTE(random_state=42)\n",
        "X_resampled, y_resampled = smote.fit_resample(X_encoded, y)\n",
        "\n",
        "# Verificar o balanceamento das classes após o SMOTE\n",
        "classes_balanceadas = pd.Series(y_resampled)\n",
        "contagem_classes = classes_balanceadas.value_counts()\n",
        "print(\"Contagem de Exemplos por Classe após SMOTE:\")\n",
        "print(contagem_classes)\n",
        "\n",
        "# Dividir os dados resampleados em conjuntos de treino e teste\n",
        "X_train, X_test, y_train, y_test = train_test_split(X_resampled, y_resampled, test_size=0.2, random_state=42)\n",
        "\n",
        "# Criar e treinar o modelo de árvore de decisão\n",
        "classifier = DecisionTreeClassifier(random_state=42)\n",
        "#classifier =  DecisionTreeClassifier(max_depth=5, min_samples_leaf=1, min_samples_split=2, ccp_alpha=0.01, random_state=42)\n",
        "classifier.fit(X_train, y_train)\n",
        "\n",
        "# Avaliar o modelo nos dados de teste\n",
        "y_pred_test = classifier.predict(X_test)\n",
        "\n",
        "# Avaliar o modelo nos dados de treinamento\n",
        "y_pred_train = classifier.predict(X_train)\n",
        "\n",
        "# Exibir relatório de classificação para dados de teste\n",
        "print(\"Relatório de Classificação para Dados de Teste:\\n\", classification_report(y_test, y_pred_test))\n",
        "\n",
        "# Exibir relatório de classificação para dados de treinamento\n",
        "print(\"Relatório de Classificação para Dados de Treinamento:\\n\", classification_report(y_train, y_pred_train))\n",
        "\n",
        "# Função para prever a casa de Hogwarts com base no nome do usuário\n",
        "def prever_casa(nome_usuario):\n",
        "    # Codificar o nome do usuário usando o mesmo encoder utilizado durante o treinamento\n",
        "    nome_usuario_encoded = encoder.transform([[nome_usuario]])\n",
        "    casa_prevista = classifier.predict(nome_usuario_encoded)\n",
        "    return casa_prevista[0]\n",
        "\n",
        "# Exemplo de uso da função com entrada do usuário\n",
        "nome_usuario = input(\"Digite o seu nome: \")\n",
        "casa_prevista = prever_casa(nome_usuario)\n",
        "print(f\"Com base no seu nome, você seria classificado na casa: {casa_prevista}\")"
      ],
      "metadata": {
        "colab": {
          "base_uri": "https://localhost:8080/"
        },
        "id": "HxZ-bK2ycBlm",
        "outputId": "f3341f34-86b6-4af8-8699-62f021ce9eff"
      },
      "execution_count": null,
      "outputs": [
        {
          "output_type": "stream",
          "name": "stdout",
          "text": [
            "Contagem de Exemplos por Classe após SMOTE:\n",
            "Gryffindor    38\n",
            "Ravenclaw     38\n",
            "Slytherin     38\n",
            "Hufflepuff    38\n",
            "Name: House, dtype: int64\n",
            "Relatório de Classificação para Dados de Teste:\n",
            "               precision    recall  f1-score   support\n",
            "\n",
            "  Gryffindor       0.53      1.00      0.69        10\n",
            "  Hufflepuff       1.00      0.80      0.89         5\n",
            "   Ravenclaw       1.00      0.70      0.82        10\n",
            "   Slytherin       1.00      0.17      0.29         6\n",
            "\n",
            "    accuracy                           0.71        31\n",
            "   macro avg       0.88      0.67      0.67        31\n",
            "weighted avg       0.85      0.71      0.69        31\n",
            "\n",
            "Relatório de Classificação para Dados de Treinamento:\n",
            "               precision    recall  f1-score   support\n",
            "\n",
            "  Gryffindor       1.00      1.00      1.00        28\n",
            "  Hufflepuff       1.00      1.00      1.00        33\n",
            "   Ravenclaw       1.00      1.00      1.00        28\n",
            "   Slytherin       1.00      1.00      1.00        32\n",
            "\n",
            "    accuracy                           1.00       121\n",
            "   macro avg       1.00      1.00      1.00       121\n",
            "weighted avg       1.00      1.00      1.00       121\n",
            "\n",
            "Digite o seu nome: Harry\n",
            "Com base no seu nome, você seria classificado na casa: Gryffindor\n"
          ]
        }
      ]
    },
    {
      "cell_type": "code",
      "source": [
        "#pip install matplotlib plotly\n"
      ],
      "metadata": {
        "colab": {
          "base_uri": "https://localhost:8080/"
        },
        "id": "AVPhp9opjdQf",
        "outputId": "aee860e0-7747-437e-fae4-f1d1c86e0b6d"
      },
      "execution_count": null,
      "outputs": [
        {
          "output_type": "stream",
          "name": "stdout",
          "text": [
            "Requirement already satisfied: matplotlib in /usr/local/lib/python3.10/dist-packages (3.7.1)\n",
            "Requirement already satisfied: plotly in /usr/local/lib/python3.10/dist-packages (5.15.0)\n",
            "Requirement already satisfied: contourpy>=1.0.1 in /usr/local/lib/python3.10/dist-packages (from matplotlib) (1.1.1)\n",
            "Requirement already satisfied: cycler>=0.10 in /usr/local/lib/python3.10/dist-packages (from matplotlib) (0.12.1)\n",
            "Requirement already satisfied: fonttools>=4.22.0 in /usr/local/lib/python3.10/dist-packages (from matplotlib) (4.43.1)\n",
            "Requirement already satisfied: kiwisolver>=1.0.1 in /usr/local/lib/python3.10/dist-packages (from matplotlib) (1.4.5)\n",
            "Requirement already satisfied: numpy>=1.20 in /usr/local/lib/python3.10/dist-packages (from matplotlib) (1.23.5)\n",
            "Requirement already satisfied: packaging>=20.0 in /usr/local/lib/python3.10/dist-packages (from matplotlib) (23.2)\n",
            "Requirement already satisfied: pillow>=6.2.0 in /usr/local/lib/python3.10/dist-packages (from matplotlib) (9.4.0)\n",
            "Requirement already satisfied: pyparsing>=2.3.1 in /usr/local/lib/python3.10/dist-packages (from matplotlib) (3.1.1)\n",
            "Requirement already satisfied: python-dateutil>=2.7 in /usr/local/lib/python3.10/dist-packages (from matplotlib) (2.8.2)\n",
            "Requirement already satisfied: tenacity>=6.2.0 in /usr/local/lib/python3.10/dist-packages (from plotly) (8.2.3)\n",
            "Requirement already satisfied: six>=1.5 in /usr/local/lib/python3.10/dist-packages (from python-dateutil>=2.7->matplotlib) (1.16.0)\n"
          ]
        }
      ]
    },
    {
      "cell_type": "markdown",
      "source": [
        "## Visualizações gráficas do modelo\n",
        "\n",
        "### Curvas de Aprendizado\n",
        "- Visualiza como o erro de treinamento e teste estão mudando à medida que você aumenta o tamanho do conjunto de treinamento.\n",
        "- A **linha vermelha** mostra como o modelo está se saindo nos dados de treinamento à medida que mais exemplos são adicionados.\n",
        "- A **linha verde **mostra como o modelo está se saindo nos dados de validação (ou teste) à medida que mais exemplos são adicionados.\n",
        "\n",
        "Se as duas linhas estiverem convergindo para um valor semelhante e alto, isso geralmente indica que o modelo está aprendendo bem e não está sofrendo de overfitting.\n",
        "### Importância de Recursos\n",
        "- O gráfico de barras permite identificar quais nomes dos personagens (ou recursos) têm mais influência na predição das casas de Hogwarts.\n",
        "- Se um único recurso está sendo pesadamente ponderado, pode ser um sinal de overfitting\n",
        "\n",
        "# ***Pouco Overfitting graças a Deus ❌***\n",
        "\n"
      ],
      "metadata": {
        "id": "y-qpq8cuk9-Z"
      }
    },
    {
      "cell_type": "code",
      "source": [
        "import matplotlib.pyplot as plt\n",
        "import plotly.express as px\n",
        "import numpy as np\n",
        "from sklearn.model_selection import learning_curve\n",
        "\n",
        "# Curva de Aprendizado\n",
        "def plot_learning_curve(classifier, X, y):\n",
        "    train_sizes, train_scores, test_scores = learning_curve(classifier, X, y, cv=5, n_jobs=-1, train_sizes=np.linspace(.1, 1.0, 5))\n",
        "    train_scores_mean = np.mean(train_scores, axis=1)\n",
        "    train_scores_std = np.std(train_scores, axis=1)\n",
        "    test_scores_mean = np.mean(test_scores, axis=1)\n",
        "    test_scores_std = np.std(test_scores, axis=1)\n",
        "\n",
        "    plt.figure(figsize=(10, 6))\n",
        "    plt.grid()\n",
        "    plt.fill_between(train_sizes, train_scores_mean - train_scores_std, train_scores_mean + train_scores_std, alpha=0.1, color=\"r\")\n",
        "    plt.fill_between(train_sizes, test_scores_mean - test_scores_std, test_scores_mean + test_scores_std, alpha=0.1, color=\"g\")\n",
        "    plt.plot(train_sizes, train_scores_mean, 'o-', color=\"r\", label=\"Training score\")\n",
        "    plt.plot(train_sizes, test_scores_mean, 'o-', color=\"g\", label=\"Cross-validation score\")\n",
        "    plt.xlabel(\"Training examples\")\n",
        "    plt.ylabel(\"Score\")\n",
        "    plt.legend(loc=\"best\")\n",
        "    plt.show()\n",
        "\n",
        "# Visualização da Curva de Aprendizado\n",
        "plot_learning_curve(classifier, X_resampled, y_resampled)\n",
        "\n",
        "# Importância dos Recursos\n",
        "feature_importance = classifier.feature_importances_\n",
        "feature_names = encoder.get_feature_names_out(input_features=['Name'])\n",
        "\n",
        "# Criar DataFrame com importância dos recursos\n",
        "importance_df = pd.DataFrame({'Feature': feature_names, 'Importance': feature_importance})\n",
        "importance_df = importance_df.sort_values(by='Importance', ascending=False)\n",
        "\n",
        "# Visualização da Importância dos Recursos (Plotly)\n",
        "fig = px.bar(importance_df, x='Feature', y='Importance', title='Importância dos Recursos')\n",
        "fig.show()"
      ],
      "metadata": {
        "colab": {
          "base_uri": "https://localhost:8080/",
          "height": 1000
        },
        "id": "_Ca9DYnOjkzg",
        "outputId": "ab1c2637-d43c-4ce7-b63a-522fcf6155e5"
      },
      "execution_count": null,
      "outputs": [
        {
          "output_type": "display_data",
          "data": {
            "text/plain": [
              "<Figure size 1000x600 with 1 Axes>"
            ],
            "image/png": "[encoded data removed]"
          },
          "metadata": {}
        },
        {
          "output_type": "display_data",
          "data": {
            "text/html": [
              "<html>\n",
              "<head><meta charset=\"utf-8\" /></head>\n",
              "<body>\n",
              "    <div>            <script src=\"https://cdnjs.cloudflare.com/ajax/libs/mathjax/2.7.5/MathJax.js?config=TeX-AMS-MML_SVG\"></script><script type=\"text/javascript\">if (window.MathJax && window.MathJax.Hub && window.MathJax.Hub.Config) {window.MathJax.Hub.Config({SVG: {font: \"STIX-Web\"}});}</script>                <script type=\"text/javascript\">window.PlotlyConfig = {MathJaxConfig: 'local'};</script>\n",
              "        <script charset=\"utf-8\" src=\"https://cdn.plot.ly/plotly-2.24.1.min.js\"></script>                <div id=\"c931de9c-c1c7-45d2-8a2e-699a87ea2cc9\" class=\"plotly-graph-div\" style=\"height:525px; width:100%;\"></div>            <script type=\"text/javascript\">                                    window.PLOTLYENV=window.PLOTLYENV || {};                                    if (document.getElementById(\"c931de9c-c1c7-45d2-8a2e-699a87ea2cc9\")) {                    Plotly.newPlot(                        \"c931de9c-c1c7-45d2-8a2e-699a87ea2cc9\",                        [{\"alignmentgroup\":\"True\",\"hovertemplate\":\"Feature=%{x}\\u003cbr\\u003eImportance=%{y}\\u003cextra\\u003e\\u003c\\u002fextra\\u003e\",\"legendgroup\":\"\",\"marker\":{\"color\":\"#636efa\",\"pattern\":{\"shape\":\"\"}},\"name\":\"\",\"offsetgroup\":\"\",\"orientation\":\"v\",\"showlegend\":false,\"textposition\":\"auto\",\"x\":[\"Name_Newton Scamander\",\"Name_Fat Friar\",\"Name_Filius Flitwick\",\"Name_Luna Lovegood\",\"Name_Nymphadora Tonks\",\"Name_Pomona Sprout\",\"Name_Bellatrix Lestrange\",\"Name_Helga Hufflepuff\",\"Name_Gregory Goyle\",\"Name_Vincent Crabbe\",\"Name_Quirinus Quirrell\",\"Name_Gilderoy Lockhart\",\"Name_Cho Chang\",\"Name_Draco Malfoy\",\"Name_Salazar Slytherin\",\"Name_Daniel Almeida\",\"Name_Isabel Lima\",\"Name_Juliana Oliveira\",\"Name_Dolores Jane Umbridge\",\"Name_Lucius Malfoy\",\"Name_Jaxon Hall\",\"Name_Eva White\",\"Name_Vitor Lima\",\"Name_Miles Ward\",\"Name_Sophia Bell\",\"Name_Isaac Howard\",\"Name_Anthony Goldstein\",\"Name_Amycus Carrow\",\"Name_Connor Simmons\",\"Name_Ricardo Almeida\",\"Name_Camila Lima\",\"Name_Aline Oliveira\",\"Name_Owen Price\",\"Name_Lucas Scott\",\"Name_Madeline Hughes\",\"Name_Marcos Almeida\",\"Name_Zoe Jenkins\",\"Name_Rodolphus Lestrange\",\"Name_Padma Patil\",\"Name_Aria Richardson\",\"Name_Violet Murphy\",\"Name_Logan Clark\",\"Name_Antonin Dolohov\",\"Name_Marcos Santos\",\"Name_Penelope Clearwater\",\"Name_Manuela Santos\",\"Name_Theodore Nott\",\"Name_Thales Santos\",\"Name_Daniel Souza\",\"Name_Carolina Silva\",\"Name_Leah Perez\",\"Name_Graham Montague\",\"Name_Pedro Lima\",\"Name_Edgar Bones\",\"Name_Felipe Lima\",\"Name_Mariana Costa\",\"Name_Guilherme Santos\",\"Name_Rafael Costa\",\"Name_Zacharias Smith\",\"Name_Michael Corner\",\"Name_Walden Macnair\",\"Name_Carter Powell\",\"Name_Terry Boot\",\"Name_Justin Finch-Fletchley\",\"Name_Pansy Parkinson\",\"Name_Gabriel Bell\",\"Name_Leticia Silva\",\"Name_Lucas Martinez\",\"Name_Amanda Almeida\",\"Name_Isabella Green\",\"Name_Carla Lima\",\"Name_Sybill Patricia Trelawney\",\"Name_Edward Remus Lupin\",\"Name_Narcissa Malfoy\",\"Name_Garrick Ollivander\",\"Name_Hugo Costa\",\"Name_Myrtle Elizabeth Warren (Moaning Myrtle)\",\"Name_Ernest Macmillan\",\"Name_Lucas Almeida\",\"Name_Cedric Diggory\",\"Name_Julia Costa\",\"Name_Avery Simmons\",\"Name_Horace Eugene Flaccus Slughorn\",\"Name_Marcus Belby\",\"Name_Carlos Silva\",\"Name_Roger Davies\",\"Name_Elijah Brooks\",\"Name_Alecto Carrow\",\"Name_Aurora Flores\",\"Name_Renan Oliveira\",\"Name_Beatriz Oliveira\",\"Name_Ana Clara Costa\",\"Name_Caleb Russell\",\"Name_Nora Bennett\",\"Name_Victor Almeida\",\"Name_Fernanda Oliveira\",\"Name_Bianca Oliveira\",\"Name_Augustus Rookwood\",\"Name_Hannah Carter\",\"Name_Regulus Arcturus Black\",\"Name_Rowena Ravenclaw\",\"Name_Eva Jenkins\",\"Name_Bloody Baron\",\"Name_Xavier Evans\",\"Name_Aria Taylor\",\"Name_Lucas Pereira\",\"Name_Corban Yaxley\",\"Name_Grayson Brooks\",\"Name_Juliana Santos\",\"Name_Felipe Silva\",\"Name_Thiago Oliveira\",\"Name_Camila Silva\",\"Name_Diego Lima\",\"Name_Blaise Zabini\",\"Name_Landon Nelson\",\"Name_Natalia Santos\",\"Name_Viviane Costa\",\"Name_William Morris\",\"Name_Nicholas de Mimsy-Porpington\",\"Name_Vinicius Costa\",\"Name_Oliver Hayes\",\"Name_Noah Evans\",\"Name_Neville Longbottom\",\"Name_Pedro Silva\",\"Name_Oliver Wood\",\"Name_Remus John Lupin\",\"Name_Rubeus Hagrid\",\"Name_Molly Weasley\",\"Name_Seamus Finnigan\",\"Name_Ronald Bilius Weasley\",\"Name_Romilda Vane\",\"Name_Rodrigo Oliveira\",\"Name_Severus Snape\",\"Name_Sirius Black\",\"Name_Sophia Mitchell\",\"Name_Rafael Fernandes\",\"Name_Olivia Harris\",\"Name_Sophie Coleman\",\"Name_Susan Bones\",\"Name_Tatiane Pereira\",\"Name_Peter Pettigrew\",\"Name_Percy Ignatius Weasley\",\"Name_Thiago Costa\",\"Name_Rose Granger-Weasley\",\"Name_Tom Marvolo Riddle\",\"Name_Parvati Patil\",\"Name_Scorpius Hyperion Malfoy\",\"Name_(Bill) William Arthur Weasley\",\"Name_Minerva McGonagall\",\"Name_Hannah Abbott\",\"Name_Godric Gryffindor\",\"Name_Giovanna Oliveira\",\"Name_Ginevra (Ginny) Molly Weasley\",\"Name_George Weasley\",\"Name_Gabriel Costa\",\"Name_Gabriel Almeida\",\"Name_Fred Weasley\",\"Name_Frank Longbottom\",\"Name_Ethan Wilson\",\"Name_Emma Hill\",\"Name_Elena Thompson\",\"Name_Dennis Creevey\",\"Name_Dean Thomas\",\"Name_Daniel Ward\",\"Name_Cormac McLaggen\",\"Name_Colin Creevey\",\"Name_Chloe King\",\"Name_Charlotte Brooks\",\"Name_Charles Weasley\",\"Name_Bianca Lima\",\"Name_Avery Ward\",\"Name_Ava Carter\",\"Name_Arthur Weasley\",\"Name_Angelina Johnson\",\"Name_Ana Beatriz Oliveira\",\"Name_Amelia Rogers\",\"Name_Amanda Costa\",\"Name_Alicia Spinnet\",\"Name_Albus Severus Potter\",\"Name_Grace Nelson\",\"Name_Harry James Potter\",\"Name_Millicent Bulstrode\",\"Name_Hazel Wood\",\"Name_Maxwell Parker\",\"Name_Matheus Santos\",\"Name_Mateus Oliveira\",\"Name_Mason Cooper\",\"Name_Marietta Edgecombe\",\"Name_Mariana Lima\",\"Name_Marcus Flint\",\"Name_Lucas Oliveira\",\"Name_Luana Pereira\",\"Name_Lily Ramirez\",\"Name_Lily J. Potter\",\"Name_Liam Turner\",\"Name_Leticia Lima\",\"Name_Leonardo Santos\",\"Name_Lee Jordan\\u00a0\",\"Name_Lavender Brown\",\"Name_Larissa Santos\",\"Name_Larissa Almeida\",\"Name_Katie Bell\",\"Name_Albus Percival Wulfric Brian Dumbledore\",\"Name_Jo\\u00e3o Almeida\",\"Name_James Sirius Potter\",\"Name_James Potter\",\"Name_James Foster\",\"Name_Isabela Silva\",\"Name_Hermione Jean Granger\",\"Name_Henry Reed\",\"Name_Helena Santos\",\"Name_Helena Ravenclaw\",\"Name_Juliana Souza\"],\"xaxis\":\"x\",\"y\":[0.047846463098359715,0.04755648453412694,0.044535982863617964,0.04441722024264828,0.03464858158189874,0.026295798521977085,0.01797844020016294,0.016286947516541802,0.015649269200539207,0.014968866191820106,0.014326807778783833,0.013829924272005136,0.013358449580914058,0.011827172157499333,0.01048971102196436,0.010156704322854404,0.00983930731276517,0.009536559395449314,0.0092475727471024,0.00897152579942766,0.008707657393562166,0.008455261527082092,0.00821368262630836,0.008128138890133257,0.007982311284722139,0.007960417756224938,0.007813002612591206,0.007760580415702133,0.007669644766488573,0.00754796177417603,0.0075301966798250915,0.007410800145743967,0.007394517460368814,0.0073439628073064,0.007304169927819685,0.0072624725057193655,0.0071998246431364795,0.007148123799111554,0.0071339331693349274,0.0070976994708933155,0.0070087764470660235,0.006997731872711891,0.0069600152780823574,0.006899861496869709,0.006886884682769089,0.00680403008719095,0.006779235660469792,0.0067681452916869,0.006710181396333053,0.006652450500376071,0.006618261103232705,0.00660540910507311,0.006539697102064558,0.0065282167344812535,0.006439997589420638,0.006438183558109252,0.006429786226399568,0.006419683903309807,0.006353554668757356,0.006322623122626306,0.006277228969156514,0.006268840606507235,0.006218116955310094,0.006185809605096479,0.00612223566127611,0.006116180611780444,0.006104417373450559,0.006024621067915218,0.006016730520532081,0.0059729128402693414,0.005946379235864323,0.005919686479878287,0.00586965176185315,0.005828987229660523,0.005824971496200226,0.005794399816188478,0.00573251163118119,0.0057205858057911944,0.005690201819430453,0.005648173327236717,0.005642235857461746,0.005577127121862746,0.005556314717796828,0.005554075922188906,0.005507413032839499,0.005467966217968982,0.005438997964108542,0.005427098096452685,0.005383843660769421,0.005371849841094772,0.005329355960881323,0.005302337220672161,0.005301647574345482,0.005221319580794726,0.005181829556565988,0.005142803496872988,0.005066045235725775,0.005065383948553249,0.00499099271371494,0.004952819860807673,0.004917595762042682,0.004845806042888791,0.00484396667705361,0.004738663053639439,0.004636756321303071,0.004618686609168624,0.004538101931488108,0.004442562943456824,0.004350009548801454,0.004260318630269425,0.00417337335210077,0.004089062779330948,0.004007281523744361,0.003927929414363291,0.003850911190552212,0.0,0.0,0.0,0.0,0.0,0.0,0.0,0.0,0.0,0.0,0.0,0.0,0.0,0.0,0.0,0.0,0.0,0.0,0.0,0.0,0.0,0.0,0.0,0.0,0.0,0.0,0.0,0.0,0.0,0.0,0.0,0.0,0.0,0.0,0.0,0.0,0.0,0.0,0.0,0.0,0.0,0.0,0.0,0.0,0.0,0.0,0.0,0.0,0.0,0.0,0.0,0.0,0.0,0.0,0.0,0.0,0.0,0.0,0.0,0.0,0.0,0.0,0.0,0.0,0.0,0.0,0.0,0.0,0.0,0.0,0.0,0.0,0.0,0.0,0.0,0.0,0.0,0.0,0.0,0.0,0.0,0.0,0.0,0.0,0.0,0.0,0.0,0.0,0.0,0.0,0.0,0.0,0.0,0.0,0.0,0.0,0.0,0.0],\"yaxis\":\"y\",\"type\":\"bar\"}],                        {\"template\":{\"data\":{\"histogram2dcontour\":[{\"type\":\"histogram2dcontour\",\"colorbar\":{\"outlinewidth\":0,\"ticks\":\"\"},\"colorscale\":[[0.0,\"#0d0887\"],[0.1111111111111111,\"#46039f\"],[0.2222222222222222,\"#7201a8\"],[0.3333333333333333,\"#9c179e\"],[0.4444444444444444,\"#bd3786\"],[0.5555555555555556,\"#d8576b\"],[0.6666666666666666,\"#ed7953\"],[0.7777777777777778,\"#fb9f3a\"],[0.8888888888888888,\"#fdca26\"],[1.0,\"#f0f921\"]]}],\"choropleth\":[{\"type\":\"choropleth\",\"colorbar\":{\"outlinewidth\":0,\"ticks\":\"\"}}],\"histogram2d\":[{\"type\":\"histogram2d\",\"colorbar\":{\"outlinewidth\":0,\"ticks\":\"\"},\"colorscale\":[[0.0,\"#0d0887\"],[0.1111111111111111,\"#46039f\"],[0.2222222222222222,\"#7201a8\"],[0.3333333333333333,\"#9c179e\"],[0.4444444444444444,\"#bd3786\"],[0.5555555555555556,\"#d8576b\"],[0.6666666666666666,\"#ed7953\"],[0.7777777777777778,\"#fb9f3a\"],[0.8888888888888888,\"#fdca26\"],[1.0,\"#f0f921\"]]}],\"heatmap\":[{\"type\":\"heatmap\",\"colorbar\":{\"outlinewidth\":0,\"ticks\":\"\"},\"colorscale\":[[0.0,\"#0d0887\"],[0.1111111111111111,\"#46039f\"],[0.2222222222222222,\"#7201a8\"],[0.3333333333333333,\"#9c179e\"],[0.4444444444444444,\"#bd3786\"],[0.5555555555555556,\"#d8576b\"],[0.6666666666666666,\"#ed7953\"],[0.7777777777777778,\"#fb9f3a\"],[0.8888888888888888,\"#fdca26\"],[1.0,\"#f0f921\"]]}],\"heatmapgl\":[{\"type\":\"heatmapgl\",\"colorbar\":{\"outlinewidth\":0,\"ticks\":\"\"},\"colorscale\":[[0.0,\"#0d0887\"],[0.1111111111111111,\"#46039f\"],[0.2222222222222222,\"#7201a8\"],[0.3333333333333333,\"#9c179e\"],[0.4444444444444444,\"#bd3786\"],[0.5555555555555556,\"#d8576b\"],[0.6666666666666666,\"#ed7953\"],[0.7777777777777778,\"#fb9f3a\"],[0.8888888888888888,\"#fdca26\"],[1.0,\"#f0f921\"]]}],\"contourcarpet\":[{\"type\":\"contourcarpet\",\"colorbar\":{\"outlinewidth\":0,\"ticks\":\"\"}}],\"contour\":[{\"type\":\"contour\",\"colorbar\":{\"outlinewidth\":0,\"ticks\":\"\"},\"colorscale\":[[0.0,\"#0d0887\"],[0.1111111111111111,\"#46039f\"],[0.2222222222222222,\"#7201a8\"],[0.3333333333333333,\"#9c179e\"],[0.4444444444444444,\"#bd3786\"],[0.5555555555555556,\"#d8576b\"],[0.6666666666666666,\"#ed7953\"],[0.7777777777777778,\"#fb9f3a\"],[0.8888888888888888,\"#fdca26\"],[1.0,\"#f0f921\"]]}],\"surface\":[{\"type\":\"surface\",\"colorbar\":{\"outlinewidth\":0,\"ticks\":\"\"},\"colorscale\":[[0.0,\"#0d0887\"],[0.1111111111111111,\"#46039f\"],[0.2222222222222222,\"#7201a8\"],[0.3333333333333333,\"#9c179e\"],[0.4444444444444444,\"#bd3786\"],[0.5555555555555556,\"#d8576b\"],[0.6666666666666666,\"#ed7953\"],[0.7777777777777778,\"#fb9f3a\"],[0.8888888888888888,\"#fdca26\"],[1.0,\"#f0f921\"]]}],\"mesh3d\":[{\"type\":\"mesh3d\",\"colorbar\":{\"outlinewidth\":0,\"ticks\":\"\"}}],\"scatter\":[{\"fillpattern\":{\"fillmode\":\"overlay\",\"size\":10,\"solidity\":0.2},\"type\":\"scatter\"}],\"parcoords\":[{\"type\":\"parcoords\",\"line\":{\"colorbar\":{\"outlinewidth\":0,\"ticks\":\"\"}}}],\"scatterpolargl\":[{\"type\":\"scatterpolargl\",\"marker\":{\"colorbar\":{\"outlinewidth\":0,\"ticks\":\"\"}}}],\"bar\":[{\"error_x\":{\"color\":\"#2a3f5f\"},\"error_y\":{\"color\":\"#2a3f5f\"},\"marker\":{\"line\":{\"color\":\"#E5ECF6\",\"width\":0.5},\"pattern\":{\"fillmode\":\"overlay\",\"size\":10,\"solidity\":0.2}},\"type\":\"bar\"}],\"scattergeo\":[{\"type\":\"scattergeo\",\"marker\":{\"colorbar\":{\"outlinewidth\":0,\"ticks\":\"\"}}}],\"scatterpolar\":[{\"type\":\"scatterpolar\",\"marker\":{\"colorbar\":{\"outlinewidth\":0,\"ticks\":\"\"}}}],\"histogram\":[{\"marker\":{\"pattern\":{\"fillmode\":\"overlay\",\"size\":10,\"solidity\":0.2}},\"type\":\"histogram\"}],\"scattergl\":[{\"type\":\"scattergl\",\"marker\":{\"colorbar\":{\"outlinewidth\":0,\"ticks\":\"\"}}}],\"scatter3d\":[{\"type\":\"scatter3d\",\"line\":{\"colorbar\":{\"outlinewidth\":0,\"ticks\":\"\"}},\"marker\":{\"colorbar\":{\"outlinewidth\":0,\"ticks\":\"\"}}}],\"scattermapbox\":[{\"type\":\"scattermapbox\",\"marker\":{\"colorbar\":{\"outlinewidth\":0,\"ticks\":\"\"}}}],\"scatterternary\":[{\"type\":\"scatterternary\",\"marker\":{\"colorbar\":{\"outlinewidth\":0,\"ticks\":\"\"}}}],\"scattercarpet\":[{\"type\":\"scattercarpet\",\"marker\":{\"colorbar\":{\"outlinewidth\":0,\"ticks\":\"\"}}}],\"carpet\":[{\"aaxis\":{\"endlinecolor\":\"#2a3f5f\",\"gridcolor\":\"white\",\"linecolor\":\"white\",\"minorgridcolor\":\"white\",\"startlinecolor\":\"#2a3f5f\"},\"baxis\":{\"endlinecolor\":\"#2a3f5f\",\"gridcolor\":\"white\",\"linecolor\":\"white\",\"minorgridcolor\":\"white\",\"startlinecolor\":\"#2a3f5f\"},\"type\":\"carpet\"}],\"table\":[{\"cells\":{\"fill\":{\"color\":\"#EBF0F8\"},\"line\":{\"color\":\"white\"}},\"header\":{\"fill\":{\"color\":\"#C8D4E3\"},\"line\":{\"color\":\"white\"}},\"type\":\"table\"}],\"barpolar\":[{\"marker\":{\"line\":{\"color\":\"#E5ECF6\",\"width\":0.5},\"pattern\":{\"fillmode\":\"overlay\",\"size\":10,\"solidity\":0.2}},\"type\":\"barpolar\"}],\"pie\":[{\"automargin\":true,\"type\":\"pie\"}]},\"layout\":{\"autotypenumbers\":\"strict\",\"colorway\":[\"#636efa\",\"#EF553B\",\"#00cc96\",\"#ab63fa\",\"#FFA15A\",\"#19d3f3\",\"#FF6692\",\"#B6E880\",\"#FF97FF\",\"#FECB52\"],\"font\":{\"color\":\"#2a3f5f\"},\"hovermode\":\"closest\",\"hoverlabel\":{\"align\":\"left\"},\"paper_bgcolor\":\"white\",\"plot_bgcolor\":\"#E5ECF6\",\"polar\":{\"bgcolor\":\"#E5ECF6\",\"angularaxis\":{\"gridcolor\":\"white\",\"linecolor\":\"white\",\"ticks\":\"\"},\"radialaxis\":{\"gridcolor\":\"white\",\"linecolor\":\"white\",\"ticks\":\"\"}},\"ternary\":{\"bgcolor\":\"#E5ECF6\",\"aaxis\":{\"gridcolor\":\"white\",\"linecolor\":\"white\",\"ticks\":\"\"},\"baxis\":{\"gridcolor\":\"white\",\"linecolor\":\"white\",\"ticks\":\"\"},\"caxis\":{\"gridcolor\":\"white\",\"linecolor\":\"white\",\"ticks\":\"\"}},\"coloraxis\":{\"colorbar\":{\"outlinewidth\":0,\"ticks\":\"\"}},\"colorscale\":{\"sequential\":[[0.0,\"#0d0887\"],[0.1111111111111111,\"#46039f\"],[0.2222222222222222,\"#7201a8\"],[0.3333333333333333,\"#9c179e\"],[0.4444444444444444,\"#bd3786\"],[0.5555555555555556,\"#d8576b\"],[0.6666666666666666,\"#ed7953\"],[0.7777777777777778,\"#fb9f3a\"],[0.8888888888888888,\"#fdca26\"],[1.0,\"#f0f921\"]],\"sequentialminus\":[[0.0,\"#0d0887\"],[0.1111111111111111,\"#46039f\"],[0.2222222222222222,\"#7201a8\"],[0.3333333333333333,\"#9c179e\"],[0.4444444444444444,\"#bd3786\"],[0.5555555555555556,\"#d8576b\"],[0.6666666666666666,\"#ed7953\"],[0.7777777777777778,\"#fb9f3a\"],[0.8888888888888888,\"#fdca26\"],[1.0,\"#f0f921\"]],\"diverging\":[[0,\"#8e0152\"],[0.1,\"#c51b7d\"],[0.2,\"#de77ae\"],[0.3,\"#f1b6da\"],[0.4,\"#fde0ef\"],[0.5,\"#f7f7f7\"],[0.6,\"#e6f5d0\"],[0.7,\"#b8e186\"],[0.8,\"#7fbc41\"],[0.9,\"#4d9221\"],[1,\"#276419\"]]},\"xaxis\":{\"gridcolor\":\"white\",\"linecolor\":\"white\",\"ticks\":\"\",\"title\":{\"standoff\":15},\"zerolinecolor\":\"white\",\"automargin\":true,\"zerolinewidth\":2},\"yaxis\":{\"gridcolor\":\"white\",\"linecolor\":\"white\",\"ticks\":\"\",\"title\":{\"standoff\":15},\"zerolinecolor\":\"white\",\"automargin\":true,\"zerolinewidth\":2},\"scene\":{\"xaxis\":{\"backgroundcolor\":\"#E5ECF6\",\"gridcolor\":\"white\",\"linecolor\":\"white\",\"showbackground\":true,\"ticks\":\"\",\"zerolinecolor\":\"white\",\"gridwidth\":2},\"yaxis\":{\"backgroundcolor\":\"#E5ECF6\",\"gridcolor\":\"white\",\"linecolor\":\"white\",\"showbackground\":true,\"ticks\":\"\",\"zerolinecolor\":\"white\",\"gridwidth\":2},\"zaxis\":{\"backgroundcolor\":\"#E5ECF6\",\"gridcolor\":\"white\",\"linecolor\":\"white\",\"showbackground\":true,\"ticks\":\"\",\"zerolinecolor\":\"white\",\"gridwidth\":2}},\"shapedefaults\":{\"line\":{\"color\":\"#2a3f5f\"}},\"annotationdefaults\":{\"arrowcolor\":\"#2a3f5f\",\"arrowhead\":0,\"arrowwidth\":1},\"geo\":{\"bgcolor\":\"white\",\"landcolor\":\"#E5ECF6\",\"subunitcolor\":\"white\",\"showland\":true,\"showlakes\":true,\"lakecolor\":\"white\"},\"title\":{\"x\":0.05},\"mapbox\":{\"style\":\"light\"}}},\"xaxis\":{\"anchor\":\"y\",\"domain\":[0.0,1.0],\"title\":{\"text\":\"Feature\"}},\"yaxis\":{\"anchor\":\"x\",\"domain\":[0.0,1.0],\"title\":{\"text\":\"Importance\"}},\"legend\":{\"tracegroupgap\":0},\"title\":{\"text\":\"Import\\u00e2ncia dos Recursos\"},\"barmode\":\"relative\"},                        {\"responsive\": true}                    ).then(function(){\n",
              "                            \n",
              "var gd = document.getElementById('c931de9c-c1c7-45d2-8a2e-699a87ea2cc9');\n",
              "var x = new MutationObserver(function (mutations, observer) {{\n",
              "        var display = window.getComputedStyle(gd).display;\n",
              "        if (!display || display === 'none') {{\n",
              "            console.log([gd, 'removed!']);\n",
              "            Plotly.purge(gd);\n",
              "            observer.disconnect();\n",
              "        }}\n",
              "}});\n",
              "\n",
              "// Listen for the removal of the full notebook cells\n",
              "var notebookContainer = gd.closest('#notebook-container');\n",
              "if (notebookContainer) {{\n",
              "    x.observe(notebookContainer, {childList: true});\n",
              "}}\n",
              "\n",
              "// Listen for the clearing of the current output cell\n",
              "var outputEl = gd.closest('.output');\n",
              "if (outputEl) {{\n",
              "    x.observe(outputEl, {childList: true});\n",
              "}}\n",
              "\n",
              "                        })                };                            </script>        </div>\n",
              "</body>\n",
              "</html>"
            ]
          },
          "metadata": {}
        }
      ]
    }
  ]
}