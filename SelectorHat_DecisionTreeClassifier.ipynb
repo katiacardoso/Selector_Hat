{
  "nbformat": 4,
  "nbformat_minor": 0,
  "metadata": {
    "colab": {
      "provenance": [],
      "authorship_tag": "ABX9TyOgJF7MWquRhUnCUmQRdARM",
      "include_colab_link": true
    },
    "kernelspec": {
      "name": "python3",
      "display_name": "Python 3"
    },
    "language_info": {
      "name": "python"
    }
  },
  "cells": [
    {
      "cell_type": "markdown",
      "metadata": {
        "id": "view-in-github",
        "colab_type": "text"
      },
      "source": [
        "<a href=\"https://colab.research.google.com/github/katiacardoso/Selector_Hat/blob/main/SelectorHat_DecisionTreeClassifier.ipynb\" target=\"_parent\"><img src=\"https://colab.research.google.com/assets/colab-badge.svg\" alt=\"Open In Colab\"/></a>"
      ]
    },
    {
      "cell_type": "code",
      "execution_count": 8,
      "metadata": {
        "id": "TPwGz9tBQXHE"
      },
      "outputs": [],
      "source": [
        "import requests\n",
        "from io import StringIO\n",
        "import pandas as pd\n",
        "from sklearn.feature_extraction.text import CountVectorizer\n",
        "from sklearn.naive_bayes import MultinomialNB\n",
        "from sklearn.tree import DecisionTreeClassifier\n",
        "from sklearn.pipeline import Pipeline\n",
        "from sklearn.metrics import classification_report\n",
        "from sklearn.model_selection import train_test_split\n",
        "\n",
        "#importação dos dados\n",
        "url = 'https://raw.githubusercontent.com/katiacardoso/Selector_Hat/main/dataset.csv'\n",
        "\n",
        "# Baixar o conteúdo do arquivo usando requests\n",
        "response = requests.get(url)\n",
        "\n",
        "# Verificar se a requisição foi bem-sucedida\n",
        "if response.status_code == 200:\n",
        "    # Criar um objeto pandas DataFrame a partir do conteúdo baixado\n",
        "    data = pd.read_csv(StringIO(response.text), usecols=['Name', 'House'], delimiter=';')\n",
        "    # Agora você pode usar o DataFrame 'data' normalmente\n",
        "else:\n",
        "    print(\"Falha ao baixar o arquivo. Código de status:\", response.status_code)\n",
        "\n",
        "\n"
      ]
    },
    {
      "cell_type": "markdown",
      "source": [
        "## Validação do pré processamento dos nomes"
      ],
      "metadata": {
        "id": "iFQQH1qrXQ5f"
      }
    },
    {
      "cell_type": "code",
      "source": [
        "# Pré-processamento dos nomes usando CountVectorizer\n",
        "vectorizer = CountVectorizer(analyzer='char', ngram_range=(2, 3))  # Convertendo nomes em vetores de caracteres (bigramas e trigramas)\n",
        "name_vectors = vectorizer.fit_transform(data['Name'])\n",
        "\n",
        "# Visualize as características (tokens) e suas representações numéricas\n",
        "features = vectorizer.get_feature_names_out()\n",
        "print(\"Características (tokens):\", features)\n",
        "print(\"Representações numéricas dos nomes:\")\n",
        "for idx, name in enumerate(data['Name']):\n",
        "    print(f\"{name}: {name_vectors[idx].toarray()}\")"
      ],
      "metadata": {
        "colab": {
          "base_uri": "https://localhost:8080/"
        },
        "id": "1Hnj_xDxXQZI",
        "outputId": "27dd80ab-cbc8-4a77-a920-b3b356f1e3ee"
      },
      "execution_count": 26,
      "outputs": [
        {
          "output_type": "stream",
          "name": "stdout",
          "text": [
            "Características (tokens): [' (' ' (g' ' (m' ... 'zab' 'zac' 'zar']\n",
            "Representações numéricas dos nomes:\n",
            "Harry James Potter: [[0 0 0 ... 0 0 0]]\n",
            "Ronald Bilius Weasley: [[0 0 0 ... 0 0 0]]\n",
            "Hermione Jean Granger: [[0 0 0 ... 0 0 0]]\n",
            "Albus Percival Wulfric Brian Dumbledore: [[0 0 0 ... 0 0 0]]\n",
            "Rubeus Hagrid: [[0 0 0 ... 0 0 0]]\n",
            "Neville Longbottom: [[0 0 0 ... 0 0 0]]\n",
            "Fred Weasley: [[0 0 0 ... 0 0 0]]\n",
            "George Weasley: [[0 0 0 ... 0 0 0]]\n",
            "Ginevra (Ginny) Molly Weasley: [[1 1 0 ... 0 0 0]]\n",
            "Dean Thomas: [[0 0 0 ... 0 0 0]]\n",
            "Seamus Finnigan: [[0 0 0 ... 0 0 0]]\n",
            "Lily J. Potter: [[0 0 0 ... 0 0 0]]\n",
            "James Potter: [[0 0 0 ... 0 0 0]]\n",
            "Sirius Black: [[0 0 0 ... 0 0 0]]\n",
            "Remus John Lupin: [[0 0 0 ... 0 0 0]]\n",
            "Peter Pettigrew: [[0 0 0 ... 0 0 0]]\n",
            "Percy Ignatius Weasley: [[0 0 0 ... 0 0 0]]\n",
            "(Bill) William Arthur Weasley: [[0 0 0 ... 0 0 0]]\n",
            "Charles Weasley: [[0 0 0 ... 0 0 0]]\n",
            "Lee Jordan : [[0 0 0 ... 0 0 0]]\n",
            "Oliver Wood: [[0 0 0 ... 0 0 0]]\n",
            "Angelina Johnson: [[0 0 0 ... 0 0 0]]\n",
            "Katie Bell: [[0 0 0 ... 0 0 0]]\n",
            "Alicia Spinnet: [[0 0 0 ... 0 0 0]]\n",
            "Lavender Brown: [[0 0 0 ... 0 0 0]]\n",
            "Parvati Patil: [[0 0 0 ... 0 0 0]]\n",
            "Romilda Vane: [[0 0 0 ... 0 0 0]]\n",
            "Colin Creevey: [[0 0 0 ... 0 0 0]]\n",
            "Cormac McLaggen: [[0 0 0 ... 0 0 0]]\n",
            "Minerva McGonagall: [[0 0 0 ... 0 0 0]]\n",
            "Molly Weasley: [[0 0 0 ... 0 0 0]]\n",
            "Arthur Weasley: [[0 0 0 ... 0 0 0]]\n",
            "Quirinus Quirrell: [[0 0 0 ... 0 0 0]]\n",
            "Cho Chang: [[0 0 0 ... 0 0 0]]\n",
            "Luna Lovegood: [[0 0 0 ... 0 0 0]]\n",
            "Gilderoy Lockhart: [[0 0 0 ... 0 0 0]]\n",
            "Filius Flitwick: [[0 0 0 ... 0 0 0]]\n",
            "Sybill Patricia Trelawney: [[0 0 0 ... 0 0 0]]\n",
            "Garrick Ollivander: [[0 0 0 ... 0 0 0]]\n",
            "Myrtle Elizabeth Warren (Moaning Myrtle): [[1 0 1 ... 1 0 0]]\n",
            "Padma Patil: [[0 0 0 ... 0 0 0]]\n",
            "Michael Corner: [[0 0 0 ... 0 0 0]]\n",
            "Marietta Edgecombe: [[0 0 0 ... 0 0 0]]\n",
            "Terry Boot: [[0 0 0 ... 0 0 0]]\n",
            "Anthony Goldstein: [[0 0 0 ... 0 0 0]]\n",
            "Severus Snape: [[0 0 0 ... 0 0 0]]\n",
            "Draco Malfoy: [[0 0 0 ... 0 0 0]]\n",
            "Vincent Crabbe: [[0 0 0 ... 0 0 0]]\n",
            "Gregory Goyle: [[0 0 0 ... 0 0 0]]\n",
            "Bellatrix Lestrange: [[0 0 0 ... 0 0 0]]\n",
            "Dolores Jane Umbridge: [[0 0 0 ... 0 0 0]]\n",
            "Horace Eugene Flaccus Slughorn: [[0 0 0 ... 0 0 0]]\n",
            "Lucius Malfoy: [[0 0 0 ... 0 0 0]]\n",
            "Narcissa Malfoy: [[0 0 0 ... 0 0 0]]\n",
            "Regulus Arcturus Black: [[0 0 0 ... 0 0 0]]\n",
            "Pansy Parkinson: [[0 0 0 ... 0 0 0]]\n",
            "Blaise Zabini: [[0 0 0 ... 1 0 0]]\n",
            "Tom Marvolo Riddle: [[0 0 0 ... 0 0 0]]\n",
            "Theodore Nott: [[0 0 0 ... 0 0 0]]\n",
            "Rodolphus Lestrange: [[0 0 0 ... 0 0 0]]\n",
            "Millicent Bulstrode: [[0 0 0 ... 0 0 0]]\n",
            "Graham Montague: [[0 0 0 ... 0 0 0]]\n",
            "Bloody Baron: [[0 0 0 ... 0 0 0]]\n",
            "Marcus Flint: [[0 0 0 ... 0 0 0]]\n",
            "Penelope Clearwater: [[0 0 0 ... 0 0 0]]\n",
            "Roger Davies: [[0 0 0 ... 0 0 0]]\n",
            "Marcus Belby: [[0 0 0 ... 0 0 0]]\n",
            "Salazar Slytherin: [[0 0 0 ... 0 0 1]]\n",
            "Godric Gryffindor: [[0 0 0 ... 0 0 0]]\n",
            "Rowena Ravenclaw: [[0 0 0 ... 0 0 0]]\n",
            "Nicholas de Mimsy-Porpington: [[0 0 0 ... 0 0 0]]\n",
            "Alecto Carrow: [[0 0 0 ... 0 0 0]]\n",
            "Amycus Carrow: [[0 0 0 ... 0 0 0]]\n",
            "Helga Hufflepuff: [[0 0 0 ... 0 0 0]]\n",
            "Fat Friar: [[0 0 0 ... 0 0 0]]\n",
            "Helena Ravenclaw: [[0 0 0 ... 0 0 0]]\n",
            "Nymphadora Tonks: [[0 0 0 ... 0 0 0]]\n",
            "Pomona Sprout: [[0 0 0 ... 0 0 0]]\n",
            "Newton Scamander: [[0 0 0 ... 0 0 0]]\n",
            "Cedric Diggory: [[0 0 0 ... 0 0 0]]\n",
            "Justin Finch-Fletchley: [[0 0 0 ... 0 0 0]]\n",
            "Zacharias Smith: [[0 0 0 ... 0 1 0]]\n",
            "Hannah Abbott: [[0 0 0 ... 0 0 0]]\n",
            "Ernest Macmillan: [[0 0 0 ... 0 0 0]]\n",
            "Susan Bones: [[0 0 0 ... 0 0 0]]\n",
            "Walden Macnair: [[0 0 0 ... 0 0 0]]\n",
            "Augustus Rookwood: [[0 0 0 ... 0 0 0]]\n",
            "Antonin Dolohov: [[0 0 0 ... 0 0 0]]\n",
            "Corban Yaxley: [[0 0 0 ... 0 0 0]]\n",
            "Frank Longbottom: [[0 0 0 ... 0 0 0]]\n",
            "Edgar Bones: [[0 0 0 ... 0 0 0]]\n",
            "Dennis Creevey: [[0 0 0 ... 0 0 0]]\n",
            "Albus Severus Potter: [[0 0 0 ... 0 0 0]]\n",
            "Scorpius Hyperion Malfoy: [[0 0 0 ... 0 0 0]]\n",
            "Edward Remus Lupin: [[0 0 0 ... 0 0 0]]\n",
            "James Sirius Potter: [[0 0 0 ... 0 0 0]]\n",
            "Rose Granger-Weasley: [[0 0 0 ... 0 0 0]]\n"
          ]
        }
      ]
    },
    {
      "cell_type": "markdown",
      "source": [
        "## Validação dos dados de treinamento e dados de treino"
      ],
      "metadata": {
        "id": "9UyU-z67X-o7"
      }
    },
    {
      "cell_type": "code",
      "source": [
        "# Divida os dados em conjuntos de treino e teste (por exemplo, 80% para treino, 20% para teste)\n",
        "X_train, X_test, y_train, y_test = train_test_split(data['Name'], data['House'], test_size=0.2, random_state=42)\n",
        "\n",
        "# Verifique o tamanho dos conjuntos de treino e teste\n",
        "print(\"Tamanho do conjunto de treino:\", len(X_train))\n",
        "print(\"Tamanho do conjunto de teste:\", len(X_test))\n",
        "\n",
        "# Verifique algumas amostras dos conjuntos de treino e teste\n",
        "print(\"Amostras do conjunto de treino:\")\n",
        "print(X_train.head())\n",
        "print(y_train.head())\n",
        "\n",
        "print(\"\\nAmostras do conjunto de teste:\")\n",
        "print(X_test.head())\n",
        "print(y_test.head())"
      ],
      "metadata": {
        "colab": {
          "base_uri": "https://localhost:8080/"
        },
        "id": "9gD_qwKHYDJI",
        "outputId": "d0a6ffe6-9687-4bf5-8292-ed77ee2a9692"
      },
      "execution_count": 28,
      "outputs": [
        {
          "output_type": "stream",
          "name": "stdout",
          "text": [
            "Tamanho do conjunto de treino: 77\n",
            "Tamanho do conjunto de teste: 20\n",
            "Amostras do conjunto de treino:\n",
            "49                         Bellatrix Lestrange\n",
            "70                Nicholas de Mimsy-Porpington\n",
            "68                           Godric Gryffindor\n",
            "15                             Peter Pettigrew\n",
            "39    Myrtle Elizabeth Warren (Moaning Myrtle)\n",
            "Name: Name, dtype: object\n",
            "49     Slytherin\n",
            "70    Gryffindor\n",
            "68    Gryffindor\n",
            "15    Gryffindor\n",
            "39     Ravenclaw\n",
            "Name: House, dtype: object\n",
            "\n",
            "Amostras do conjunto de teste:\n",
            "62                Bloody Baron\n",
            "40                 Padma Patil\n",
            "93    Scorpius Hyperion Malfoy\n",
            "18             Charles Weasley\n",
            "81             Zacharias Smith\n",
            "Name: Name, dtype: object\n",
            "62     Slytherin\n",
            "40     Ravenclaw\n",
            "93     Slytherin\n",
            "18    Gryffindor\n",
            "81    Hufflepuff\n",
            "Name: House, dtype: object\n"
          ]
        }
      ]
    },
    {
      "cell_type": "code",
      "source": [
        "# Criando um pipeline com CountVectorizer e MultinomialNB (classificador Naive Bayes)\n",
        "pipeline = Pipeline([\n",
        "    ('vectorizer', CountVectorizer(analyzer='char', ngram_range=(2, 3))),  # Convertendo nomes em vetores de caracteres\n",
        "    ('classifier', MultinomialNB())  # Usando o classificador Naive Bayes\n",
        "])\n",
        "\n",
        "# Separando dados em conjunto de treino e teste\n",
        "X_train, X_test, y_train, y_test = train_test_split(data['Name'], data['House'], test_size=0.2, random_state=42)\n",
        "\n",
        "# Treinando o modelo\n",
        "pipeline.fit(X_train, y_train)\n",
        "\n",
        "# Fazendo previsões\n",
        "user_input = input(\"Digite o nome do usuário: \")\n",
        "predicted_house = pipeline.predict([user_input])[0]\n",
        "print(f'O usuário pertence à casa: {predicted_house}')\n",
        "\n",
        "# Relatório de classificação\n",
        "y_pred = pipeline.predict(X_test)\n",
        "print(\"Relatório de Classificação:\\n\", classification_report(y_test, y_pred))\n",
        "\n",
        "# Relatório em relação aos dados de treino\n",
        "y_pred_train = pipeline.predict(X_train)\n",
        "print(\"Relatório de Classificação (dados de treino):\\n\", classification_report(y_train, y_pred_train))\n"
      ],
      "metadata": {
        "colab": {
          "base_uri": "https://localhost:8080/"
        },
        "id": "xfsz4aNCQd4V",
        "outputId": "a467851f-06de-42f2-d656-1cb881ddb902"
      },
      "execution_count": 6,
      "outputs": [
        {
          "output_type": "stream",
          "name": "stdout",
          "text": [
            "Digite o nome do usuário: Hermione\n",
            "O usuário pertence à casa: Gryffindor\n",
            "Relatório de Classificação:\n",
            "               precision    recall  f1-score   support\n",
            "\n",
            "  Gryffindor       0.67      0.67      0.67         9\n",
            "  Hufflepuff       0.00      0.00      0.00         3\n",
            "   Ravenclaw       0.25      0.20      0.22         5\n",
            "   Slytherin       0.43      1.00      0.60         3\n",
            "\n",
            "    accuracy                           0.50        20\n",
            "   macro avg       0.34      0.47      0.37        20\n",
            "weighted avg       0.43      0.50      0.45        20\n",
            "\n",
            "Relatório de Classificação (dados de treino):\n",
            "               precision    recall  f1-score   support\n",
            "\n",
            "  Gryffindor       1.00      1.00      1.00        29\n",
            "  Hufflepuff       1.00      1.00      1.00        10\n",
            "   Ravenclaw       1.00      0.92      0.96        13\n",
            "   Slytherin       0.96      1.00      0.98        25\n",
            "\n",
            "    accuracy                           0.99        77\n",
            "   macro avg       0.99      0.98      0.99        77\n",
            "weighted avg       0.99      0.99      0.99        77\n",
            "\n"
          ]
        },
        {
          "output_type": "stream",
          "name": "stderr",
          "text": [
            "/usr/local/lib/python3.10/dist-packages/sklearn/metrics/_classification.py:1344: UndefinedMetricWarning: Precision and F-score are ill-defined and being set to 0.0 in labels with no predicted samples. Use `zero_division` parameter to control this behavior.\n",
            "  _warn_prf(average, modifier, msg_start, len(result))\n",
            "/usr/local/lib/python3.10/dist-packages/sklearn/metrics/_classification.py:1344: UndefinedMetricWarning: Precision and F-score are ill-defined and being set to 0.0 in labels with no predicted samples. Use `zero_division` parameter to control this behavior.\n",
            "  _warn_prf(average, modifier, msg_start, len(result))\n",
            "/usr/local/lib/python3.10/dist-packages/sklearn/metrics/_classification.py:1344: UndefinedMetricWarning: Precision and F-score are ill-defined and being set to 0.0 in labels with no predicted samples. Use `zero_division` parameter to control this behavior.\n",
            "  _warn_prf(average, modifier, msg_start, len(result))\n"
          ]
        }
      ]
    },
    {
      "cell_type": "markdown",
      "source": [
        "# Arvore de Decisão\n",
        "\n",
        "- Até o momento foi o qu deu mais certo, mas está designando para apenas uma casa, então farei algumas validações\n"
      ],
      "metadata": {
        "id": "s4mvABpjVDil"
      }
    },
    {
      "cell_type": "markdown",
      "source": [
        "## Visualização dos dados\n"
      ],
      "metadata": {
        "id": "EGjnYRkuVXwL"
      }
    },
    {
      "cell_type": "code",
      "source": [
        "import matplotlib.pyplot as plt\n",
        "\n",
        "# Contar o número de amostras em cada classe\n",
        "class_count = data['House'].value_counts()\n",
        "\n",
        "# Exibir a contagem de amostras em cada classe\n",
        "print(\"Contagem de Amostras por Classe:\")\n",
        "print(class_count)"
      ],
      "metadata": {
        "colab": {
          "base_uri": "https://localhost:8080/"
        },
        "id": "3EISxcTaVC5r",
        "outputId": "d22f646d-55d1-4848-a150-b951a4cfca7f"
      },
      "execution_count": 23,
      "outputs": [
        {
          "output_type": "stream",
          "name": "stdout",
          "text": [
            "Contagem de Amostras por Classe:\n",
            "Gryffindor    38\n",
            "Slytherin     28\n",
            "Ravenclaw     18\n",
            "Hufflepuff    13\n",
            "Name: House, dtype: int64\n"
          ]
        }
      ]
    },
    {
      "cell_type": "markdown",
      "source": [
        "## Visualizar rotulação"
      ],
      "metadata": {
        "id": "phleunm3Vrst"
      }
    },
    {
      "cell_type": "code",
      "source": [
        "# Liste as casas únicas no conjunto de dados\n",
        "unique_houses = data['House'].unique()\n",
        "print(\"Casas de Hogwarts no Conjunto de Dados:\")\n",
        "for house in unique_houses:\n",
        "    print(house)"
      ],
      "metadata": {
        "colab": {
          "base_uri": "https://localhost:8080/"
        },
        "id": "w-hN8J5VVwNg",
        "outputId": "d5628433-bcee-40ac-de51-d256a1f85b99"
      },
      "execution_count": 25,
      "outputs": [
        {
          "output_type": "stream",
          "name": "stdout",
          "text": [
            "Casas de Hogwarts no Conjunto de Dados:\n",
            "Gryffindor\n",
            "Ravenclaw\n",
            "Slytherin\n",
            "Hufflepuff\n"
          ]
        }
      ]
    },
    {
      "cell_type": "code",
      "source": [
        "from imblearn.over_sampling import SMOTE\n",
        "\n",
        "\n",
        "\n",
        "# Criando um pipeline com CountVectorizer e DecisionTreeClassifier (árvore de decisão)\n",
        "pipeline = Pipeline([\n",
        "    ('vectorizer', CountVectorizer(analyzer='char', ngram_range=(2, 3))),  # Convertendo nomes em vetores de caracteres\n",
        "    ('classifier', DecisionTreeClassifier(max_depth=5, min_samples_leaf=1, min_samples_split=2, ccp_alpha=0.01, random_state=42))  # Usando árvore de decisão com ajuste de hiperparâmetros e regularização\n",
        "])\n",
        "\n",
        "# Separando dados em conjunto de treino e teste\n",
        "X_train, X_test, y_train, y_test = train_test_split(data['Name'], data['House'], test_size=0.2, random_state=42)\n",
        "\n",
        "# Treinando o modelo\n",
        "pipeline.fit(X_train, y_train)\n",
        "\n",
        "# Fazendo previsões\n",
        "user_input = input(\"Digite o nome do usuário: \")\n",
        "predicted_house = pipeline.predict([user_input])[0]\n",
        "print(f'O usuário pertence à casa: {predicted_house}')\n",
        "\n",
        "# Avaliação do modelo\n",
        "accuracy = pipeline.score(X_test, y_test)\n",
        "print(f'Acurácia do modelo: {accuracy:.2f}')\n",
        "\n",
        "# Relatório de classificação\n",
        "y_pred = pipeline.predict(X_test)\n",
        "print(\"Relatório de Classificação:\\n\", classification_report(y_test, y_pred))\n",
        "\n",
        "# Relatório em relação aos dados de treino\n",
        "y_pred_train = pipeline.predict(X_train)\n",
        "print(\"Relatório de Classificação (dados de treino):\\n\", classification_report(y_train, y_pred_train))"
      ],
      "metadata": {
        "colab": {
          "base_uri": "https://localhost:8080/"
        },
        "id": "pxSNogJjR3bs",
        "outputId": "b3eb2cc7-460d-4980-8515-4d905fef8924"
      },
      "execution_count": 34,
      "outputs": [
        {
          "output_type": "stream",
          "name": "stdout",
          "text": [
            "Digite o nome do usuário: Katia \n",
            "O usuário pertence à casa: Gryffindor\n",
            "Acurácia do modelo: 0.55\n",
            "Relatório de Classificação:\n",
            "               precision    recall  f1-score   support\n",
            "\n",
            "  Gryffindor       0.64      0.78      0.70         9\n",
            "  Hufflepuff       0.00      0.00      0.00         3\n",
            "   Ravenclaw       0.50      0.40      0.44         5\n",
            "   Slytherin       0.40      0.67      0.50         3\n",
            "\n",
            "    accuracy                           0.55        20\n",
            "   macro avg       0.38      0.46      0.41        20\n",
            "weighted avg       0.47      0.55      0.50        20\n",
            "\n",
            "Relatório de Classificação (dados de treino):\n",
            "               precision    recall  f1-score   support\n",
            "\n",
            "  Gryffindor       0.49      1.00      0.66        29\n",
            "  Hufflepuff       0.00      0.00      0.00        10\n",
            "   Ravenclaw       1.00      0.38      0.56        13\n",
            "   Slytherin       1.00      0.52      0.68        25\n",
            "\n",
            "    accuracy                           0.61        77\n",
            "   macro avg       0.62      0.48      0.47        77\n",
            "weighted avg       0.68      0.61      0.56        77\n",
            "\n"
          ]
        },
        {
          "output_type": "stream",
          "name": "stderr",
          "text": [
            "/usr/local/lib/python3.10/dist-packages/sklearn/metrics/_classification.py:1344: UndefinedMetricWarning: Precision and F-score are ill-defined and being set to 0.0 in labels with no predicted samples. Use `zero_division` parameter to control this behavior.\n",
            "  _warn_prf(average, modifier, msg_start, len(result))\n",
            "/usr/local/lib/python3.10/dist-packages/sklearn/metrics/_classification.py:1344: UndefinedMetricWarning: Precision and F-score are ill-defined and being set to 0.0 in labels with no predicted samples. Use `zero_division` parameter to control this behavior.\n",
            "  _warn_prf(average, modifier, msg_start, len(result))\n",
            "/usr/local/lib/python3.10/dist-packages/sklearn/metrics/_classification.py:1344: UndefinedMetricWarning: Precision and F-score are ill-defined and being set to 0.0 in labels with no predicted samples. Use `zero_division` parameter to control this behavior.\n",
            "  _warn_prf(average, modifier, msg_start, len(result))\n",
            "/usr/local/lib/python3.10/dist-packages/sklearn/metrics/_classification.py:1344: UndefinedMetricWarning: Precision and F-score are ill-defined and being set to 0.0 in labels with no predicted samples. Use `zero_division` parameter to control this behavior.\n",
            "  _warn_prf(average, modifier, msg_start, len(result))\n",
            "/usr/local/lib/python3.10/dist-packages/sklearn/metrics/_classification.py:1344: UndefinedMetricWarning: Precision and F-score are ill-defined and being set to 0.0 in labels with no predicted samples. Use `zero_division` parameter to control this behavior.\n",
            "  _warn_prf(average, modifier, msg_start, len(result))\n",
            "/usr/local/lib/python3.10/dist-packages/sklearn/metrics/_classification.py:1344: UndefinedMetricWarning: Precision and F-score are ill-defined and being set to 0.0 in labels with no predicted samples. Use `zero_division` parameter to control this behavior.\n",
            "  _warn_prf(average, modifier, msg_start, len(result))\n"
          ]
        }
      ]
    }
  ]
}